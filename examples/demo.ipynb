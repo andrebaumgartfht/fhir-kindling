{
 "cells": [
  {
   "cell_type": "markdown",
   "metadata": {
    "pycharm": {
     "name": "#%% md\n"
    },
    "slideshow": {
     "slide_type": "slide"
    }
   },
   "source": [
    "<center><h1>🔥  FHIR Kindling</h1></center>"
   ]
  },
  {
   "cell_type": "markdown",
   "metadata": {
    "pycharm": {
     "name": "#%% md\n"
    },
    "slideshow": {
     "slide_type": "fragment"
    }
   },
   "source": [
    "Python fhir client library for easier and safer interactions with FHIR servers and resources"
   ]
  },
  {
   "cell_type": "markdown",
   "metadata": {
    "pycharm": {
     "name": "#%% md\n"
    },
    "slideshow": {
     "slide_type": "slide"
    }
   },
   "source": [
    "\n",
    "## Features\n",
    "\n",
    "- Create, Read, Update and Delete resources using a server's REST API\n",
    "- Resource validation\n",
    "- Transfer resources between FHIR servers\n",
    "- CSV/Dataframe serialization for resources & bundles\n",
    "- Synthetic data generation and upload\n"
   ]
  },
  {
   "cell_type": "markdown",
   "metadata": {
    "slideshow": {
     "slide_type": "slide"
    }
   },
   "source": [
    "## Why this library was made\n",
    "- Existing libraries felt slow\n",
    "- Validated data transfer\n"
   ]
  },
  {
   "cell_type": "markdown",
   "metadata": {
    "slideshow": {
     "slide_type": "fragment"
    }
   },
   "source": [
    "<center><img src=\"benchmark.png\" alt=\"benchmark\" style=\"width:1300px;\"/></center>"
   ]
  },
  {
   "cell_type": "markdown",
   "metadata": {
    "pycharm": {
     "name": "#%% md\n"
    },
    "slideshow": {
     "slide_type": "slide"
    }
   },
   "source": [
    "## Installation\n",
    "\n",
    "Install the latest published version from pypi:\n",
    "```bash\n",
    "pip install --user fhir-kindling\n",
    "```\n",
    "or install the newest version directly from github:\n",
    "```bash\n",
    "pip install --user git+https://github.com/migraf/fhir-kindling.git\n",
    "```\n",
    "\n",
    "More details can be found in the [documentation]()\n"
   ]
  },
  {
   "cell_type": "code",
   "execution_count": null,
   "metadata": {
    "pycharm": {
     "name": "#%%\n"
    },
    "slideshow": {
     "slide_type": "skip"
    }
   },
   "outputs": [],
   "source": [
    "!pip install --upgrade fhir-kindling\n",
    "!pip install RISE"
   ]
  },
  {
   "cell_type": "markdown",
   "metadata": {
    "pycharm": {
     "name": "#%% md\n"
    },
    "slideshow": {
     "slide_type": "slide"
    }
   },
   "source": [
    "<center><h2>👨‍💻   How to use the library</h2></center>"
   ]
  },
  {
   "cell_type": "markdown",
   "metadata": {
    "slideshow": {
     "slide_type": "slide"
    }
   },
   "source": [
    "## Connecting to a server"
   ]
  },
  {
   "cell_type": "code",
   "execution_count": null,
   "metadata": {
    "pycharm": {
     "name": "#%%\n"
    },
    "slideshow": {
     "slide_type": "fragment"
    }
   },
   "outputs": [],
   "source": [
    "import os\n",
    "from dotenv import load_dotenv, find_dotenv\n",
    "from fhir_kindling import FhirServer\n",
    "\n",
    "_ = load_dotenv(find_dotenv())"
   ]
  },
  {
   "cell_type": "code",
   "execution_count": null,
   "metadata": {
    "pycharm": {
     "name": "#%%\n"
    },
    "slideshow": {
     "slide_type": "fragment"
    }
   },
   "outputs": [],
   "source": [
    "\n",
    "fhir_api = \"https://demo.personalhealthtrain.de/demo-fhir-3\"\n",
    "username = os.getenv(\"DEMO_USER\")\n",
    "password = os.getenv(\"DEMO_PW\")\n",
    "server = FhirServer(\n",
    "    api_address=fhir_api,\n",
    "    username=username,\n",
    "    password=password,\n",
    ")"
   ]
  },
  {
   "cell_type": "markdown",
   "metadata": {
    "pycharm": {
     "name": "#%% md\n"
    },
    "slideshow": {
     "slide_type": "slide"
    }
   },
   "source": [
    "## Query for resources\n",
    "\n",
    "Query the server with the `query()` method of the server class."
   ]
  },
  {
   "cell_type": "markdown",
   "metadata": {
    "pycharm": {
     "name": "#%% md\n"
    },
    "slideshow": {
     "slide_type": "fragment"
    }
   },
   "source": [
    "There are three ways to define a query:\n",
    "- Iteratively build the query on a resource using methods like `where()`, `include()`, `has()`\n",
    "- Use a `query_string` to define the query i.e. `Patient?_id=123\"`\n",
    "- Pass a `FHIRQueryParameters` object to the query method"
   ]
  },
  {
   "cell_type": "markdown",
   "metadata": {
    "pycharm": {
     "name": "#%% md\n"
    },
    "slideshow": {
     "slide_type": "slide"
    }
   },
   "source": [
    "## Iteratively building a query\n",
    "\n",
    "Start building a query by selecting the base resource first"
   ]
  },
  {
   "cell_type": "code",
   "execution_count": null,
   "metadata": {
    "pycharm": {
     "name": "#%%\n"
    },
    "slideshow": {
     "slide_type": "fragment"
    }
   },
   "outputs": [],
   "source": [
    "query = server.query(\"Patient\")\n",
    "query.query_url"
   ]
  },
  {
   "cell_type": "markdown",
   "metadata": {
    "pycharm": {
     "name": "#%% md\n"
    },
    "slideshow": {
     "slide_type": "slide"
    }
   },
   "source": [
    "### Querying the server\n",
    "the query is executed against the server using one of the methods `all()`, `first()`, `limit()`"
   ]
  },
  {
   "cell_type": "code",
   "execution_count": null,
   "metadata": {
    "pycharm": {
     "name": "#%%\n"
    },
    "slideshow": {
     "slide_type": "fragment"
    }
   },
   "outputs": [],
   "source": [
    "response = query.all()\n",
    "response"
   ]
  },
  {
   "cell_type": "code",
   "execution_count": null,
   "metadata": {
    "pycharm": {
     "name": "#%%\n"
    },
    "slideshow": {
     "slide_type": "fragment"
    }
   },
   "outputs": [],
   "source": [
    "response = query.limit(5)\n",
    "response"
   ]
  },
  {
   "cell_type": "markdown",
   "metadata": {
    "pycharm": {
     "name": "#%% md\n"
    },
    "slideshow": {
     "slide_type": "fragment"
    }
   },
   "source": [
    "Accessing the resources in a `QueryResponse` object."
   ]
  },
  {
   "cell_type": "code",
   "execution_count": null,
   "metadata": {
    "pycharm": {
     "name": "#%%\n"
    }
   },
   "outputs": [],
   "source": [
    "response.resources[0]"
   ]
  },
  {
   "cell_type": "markdown",
   "metadata": {
    "pycharm": {
     "name": "#%% md\n"
    },
    "slideshow": {
     "slide_type": "slide"
    }
   },
   "source": [
    "### Adding filter conditions\n",
    "\n",
    "Filter parameters are added on the fields of the base resource using the `where()` method."
   ]
  },
  {
   "cell_type": "code",
   "execution_count": null,
   "metadata": {
    "pycharm": {
     "name": "#%%\n"
    }
   },
   "outputs": [],
   "source": [
    "query_2 = server.query(\"Patient\").where(\"birthdate\", \"lt\", \"2000-01-01\")\n",
    "query_2.query_url"
   ]
  },
  {
   "cell_type": "code",
   "execution_count": null,
   "metadata": {
    "pycharm": {
     "name": "#%%\n"
    }
   },
   "outputs": [],
   "source": [
    "query_2.all()"
   ]
  },
  {
   "cell_type": "markdown",
   "metadata": {
    "pycharm": {
     "name": "#%% md\n"
    },
    "slideshow": {
     "slide_type": "slide"
    }
   },
   "source": [
    "### Including related resources"
   ]
  },
  {
   "cell_type": "code",
   "execution_count": null,
   "metadata": {
    "pycharm": {
     "name": "#%%\n"
    }
   },
   "outputs": [],
   "source": [
    "query_3 = query_2.include(resource=\"Condition\", reference_param=\"subject\", reverse=True)\n",
    "query_3.query_url"
   ]
  },
  {
   "cell_type": "code",
   "execution_count": null,
   "metadata": {
    "pycharm": {
     "name": "#%%\n"
    }
   },
   "outputs": [],
   "source": [
    "resp = query_3.all()\n",
    "resp"
   ]
  },
  {
   "cell_type": "markdown",
   "metadata": {
    "pycharm": {
     "name": "#%% md\n"
    },
    "slideshow": {
     "slide_type": "slide"
    }
   },
   "source": [
    "## Working with the response\n",
    "\n",
    "The response to the query is a `QueryResponse` object.\n",
    "\n",
    "- The `resources` attribute contains a list of resources of the base resource type returned by the query\n",
    "- The `included_resources` attribute contains a list of included resources. Each entry in the list represents a list of resources of a certain type\n"
   ]
  },
  {
   "cell_type": "code",
   "execution_count": null,
   "metadata": {
    "pycharm": {
     "name": "#%%\n"
    }
   },
   "outputs": [],
   "source": [
    "[resource.resource_type for resource in resp.included_resources]"
   ]
  },
  {
   "cell_type": "code",
   "execution_count": null,
   "metadata": {
    "pycharm": {
     "name": "#%%\n"
    }
   },
   "outputs": [],
   "source": [
    "resp.included_resources[0].resources[0]"
   ]
  },
  {
   "cell_type": "markdown",
   "metadata": {
    "pycharm": {
     "name": "#%% md\n"
    },
    "slideshow": {
     "slide_type": "slide"
    }
   },
   "source": [
    "### Saving the response\n",
    "\n",
    "Responses can be saved to a file using the `save()` method of the `QueryResponse` class.\n",
    "Supported formats are `json`, `xml` (if the query was executed with `xml` format) and `csv`."
   ]
  },
  {
   "cell_type": "code",
   "execution_count": null,
   "metadata": {
    "pycharm": {
     "name": "#%%\n"
    }
   },
   "outputs": [],
   "source": [
    "path = os.path.join(os.getcwd(), \"query_response.json\")\n",
    "\n",
    "resp.save(file_path=path)"
   ]
  },
  {
   "cell_type": "code",
   "execution_count": null,
   "metadata": {
    "pycharm": {
     "name": "#%%\n"
    }
   },
   "outputs": [],
   "source": [
    "with open(path, \"r\") as f:\n",
    "    print(\"\".join(f.readlines()[:8]))"
   ]
  },
  {
   "cell_type": "markdown",
   "metadata": {
    "pycharm": {
     "name": "#%% md\n"
    },
    "slideshow": {
     "slide_type": "slide"
    }
   },
   "source": [
    "### Serializing resources into a pandas dataframe\n",
    "\n",
    "A response (or any bundle) can be serialized into pandas dataframes.\n",
    "If the response contains resources of different types, the resources are serialized into separate dataframes for each type."
   ]
  },
  {
   "cell_type": "code",
   "execution_count": null,
   "metadata": {
    "pycharm": {
     "name": "#%%\n"
    }
   },
   "outputs": [],
   "source": [
    "dfs = resp.to_dfs()"
   ]
  },
  {
   "cell_type": "code",
   "execution_count": null,
   "metadata": {
    "pycharm": {
     "name": "#%%\n"
    }
   },
   "outputs": [],
   "source": [
    "dfs[0].head()"
   ]
  },
  {
   "cell_type": "code",
   "execution_count": null,
   "metadata": {
    "pycharm": {
     "name": "#%%\n"
    }
   },
   "outputs": [],
   "source": [
    "dfs[1].head()"
   ]
  },
  {
   "cell_type": "markdown",
   "metadata": {
    "pycharm": {
     "name": "#%% md\n"
    },
    "slideshow": {
     "slide_type": "slide"
    }
   },
   "source": [
    "### Converting a list of resources to a dataframe\n",
    "\n",
    "Any list of resources (pydantic models or dicts) can be converted to a dataframe using the `flatten()` method."
   ]
  },
  {
   "cell_type": "code",
   "execution_count": null,
   "metadata": {
    "pycharm": {
     "name": "#%%\n"
    }
   },
   "outputs": [],
   "source": [
    "from fhir_kindling.serde import flatten_resources\n",
    "\n",
    "# get a list of patient resources\n",
    "patients = server.query(\"Patient\").limit(100).resources"
   ]
  },
  {
   "cell_type": "code",
   "execution_count": null,
   "metadata": {
    "pycharm": {
     "name": "#%%\n"
    }
   },
   "outputs": [],
   "source": [
    "flatten_resources(patients)"
   ]
  },
  {
   "cell_type": "markdown",
   "metadata": {
    "pycharm": {
     "name": "#%% md\n"
    },
    "slideshow": {
     "slide_type": "slide"
    }
   },
   "source": [
    "## Generating synthetic data\n",
    "\n",
    "Generate complex synthetic data sets using dataset and resource generator functions.\n",
    "Interdependencies between resources and the likelihood of a resource being generated can be defined."
   ]
  },
  {
   "cell_type": "markdown",
   "metadata": {
    "pycharm": {
     "name": "#%% md\n"
    },
    "slideshow": {
     "slide_type": "fragment"
    }
   },
   "source": [
    "\n",
    "This example will generate a dataset with:\n",
    "- Patients\n",
    "- with Covid-19 conditions\n",
    "- a certain likelihood of being vaccinated."
   ]
  },
  {
   "cell_type": "markdown",
   "metadata": {
    "pycharm": {
     "name": "#%% md\n"
    },
    "slideshow": {
     "slide_type": "slide"
    }
   },
   "source": [
    "Start by importing and defining some constants i.e. Codes for the condition and the vaccination."
   ]
  },
  {
   "cell_type": "code",
   "execution_count": null,
   "metadata": {
    "pycharm": {
     "name": "#%%\n"
    }
   },
   "outputs": [],
   "source": [
    "from fhir.resources.codeableconcept import CodeableConcept\n",
    "from fhir.resources.coding import Coding\n",
    "\n",
    "from fhir_kindling.generators.patient import PatientGenerator\n",
    "from fhir_kindling.generators.resource_generator import ResourceGenerator, GeneratorParameters, FieldValue\n",
    "from fhir_kindling.generators.field_generator import FieldGenerator\n",
    "from fhir_kindling.generators.dataset import DatasetGenerator\n",
    "from fhir_kindling.fhir_query.query_parameters import QueryOperators\n",
    "\n",
    "import pendulum\n",
    "\n",
    "covid_code = CodeableConcept(\n",
    "    coding=[\n",
    "        Coding(\n",
    "            system=\"http://id.who.int/icd/release/11/mms\",\n",
    "            code=\"RA01.0\",\n",
    "            display=\"COVID-19, virus identified\"\n",
    "        )\n",
    "    ],\n",
    "    text=\"COVID-19\"\n",
    ")\n",
    "\n",
    "vaccination_code = CodeableConcept(\n",
    "    coding=[\n",
    "        Coding(\n",
    "            system=\"http://id.who.int/icd/release/11/mms\",\n",
    "            code=\"XM0GQ8\",\n",
    "            display=\"COVID-19 vaccine, RNA based\"\n",
    "        )\n",
    "    ],\n",
    "    text=\"COVID vaccination\"\n",
    ")\n"
   ]
  },
  {
   "cell_type": "markdown",
   "metadata": {
    "pycharm": {
     "name": "#%% md\n"
    },
    "slideshow": {
     "slide_type": "slide"
    }
   },
   "source": [
    "Configure the data set generator and subgenerators"
   ]
  },
  {
   "cell_type": "code",
   "execution_count": null,
   "metadata": {
    "pycharm": {
     "name": "#%%\n"
    }
   },
   "outputs": [],
   "source": [
    "count = 100\n",
    "dataset_generator = DatasetGenerator(\"Patient\", n=count)\n",
    "\n",
    "covid_params = GeneratorParameters(\n",
    "    field_values=[\n",
    "        FieldValue(field=\"code\", value=covid_code),\n",
    "    ]\n",
    ")\n",
    "\n",
    "covid_generator = ResourceGenerator(\"Condition\", generator_parameters=covid_params)\n",
    "# add covid conditions to patients\n",
    "dataset_generator.add_resource(covid_generator, name=\"covid\")\n",
    "\n",
    "# patients, patient_ids = PatientGenerator(n=count, generate_ids=True).generate(references=True)\n",
    "\n",
    "vaccination_date_generator = FieldGenerator(\n",
    "    field=\"occurrenceDateTime\",\n",
    "    generator_function=lambda: pendulum.now().to_date_string()\n",
    ")\n",
    "\n",
    "first_vax_params = GeneratorParameters(\n",
    "    field_values=[\n",
    "        FieldValue(field=\"vaccineCode\", value=vaccination_code),\n",
    "        FieldValue(field=\"status\", value=\"completed\"),\n",
    "    ],\n",
    "    field_generators=[\n",
    "        vaccination_date_generator\n",
    "    ]\n",
    ")\n",
    "vaccination_generator = ResourceGenerator(\"Immunization\", generator_parameters=first_vax_params)\n",
    "dataset_generator.add_resource(vaccination_generator, name=\"first_vaccination\", likelihood=0.8)\n",
    "\n",
    "dataset = dataset_generator.generate(ids=True)\n",
    "\n",
    "dataset.upload(server)"
   ]
  },
  {
   "cell_type": "markdown",
   "metadata": {
    "pycharm": {
     "name": "#%% md\n"
    },
    "slideshow": {
     "slide_type": "slide"
    }
   },
   "source": [
    "### Check if our server now has covid patients"
   ]
  },
  {
   "cell_type": "code",
   "execution_count": null,
   "metadata": {
    "pycharm": {
     "name": "#%%\n"
    }
   },
   "outputs": [],
   "source": [
    "covid_query = server.query(\"Patient\").has(\n",
    "    resource=\"Condition\",\n",
    "    search_param=\"code\",\n",
    "    operator=QueryOperators.eq,\n",
    "    value=\"RA01.0\",\n",
    "    reference_param=\"subject\",\n",
    ").include(\n",
    "    resource=\"Condition\",\n",
    "    reference_param=\"subject\",\n",
    "    reverse=True\n",
    ")\n",
    "\n",
    "covid_response = covid_query.all()\n",
    "covid_response.included_resources[0]"
   ]
  },
  {
   "cell_type": "markdown",
   "metadata": {
    "pycharm": {
     "name": "#%% md\n"
    },
    "slideshow": {
     "slide_type": "slide"
    }
   },
   "source": [
    "## Transferring resources from one server to another\n",
    "\n",
    "Use the `transfer()` function on a server object to transfer resources from one server to another while keeping referential integrity and using server assigned ids.\n",
    "The transfer is a three-step process:\n",
    "1. Analyze the resources to be transferred and build a DAG modeling the references\n",
    "2. Obtain any missing resources that are referenced from the source server\n",
    "3. Upload the resources to the target server based on the reference DAG"
   ]
  },
  {
   "cell_type": "markdown",
   "metadata": {
    "slideshow": {
     "slide_type": "slide"
    }
   },
   "source": [
    "### Connect to an additional server"
   ]
  },
  {
   "cell_type": "code",
   "execution_count": 1,
   "metadata": {},
   "outputs": [
    {
     "ename": "NameError",
     "evalue": "name 'FhirServer' is not defined",
     "output_type": "error",
     "traceback": [
      "\u001b[1;31m---------------------------------------------------------------------------\u001b[0m",
      "\u001b[1;31mNameError\u001b[0m                                 Traceback (most recent call last)",
      "Input \u001b[1;32mIn [1]\u001b[0m, in \u001b[0;36m<cell line: 3>\u001b[1;34m()\u001b[0m\n\u001b[0;32m      1\u001b[0m \u001b[38;5;66;03m# define a new server\u001b[39;00m\n\u001b[0;32m      2\u001b[0m transfer_api_url \u001b[38;5;241m=\u001b[39m \u001b[38;5;124m\"\u001b[39m\u001b[38;5;124mhttps://demo.personalhealthtrain.de/demo-fhir-4\u001b[39m\u001b[38;5;124m\"\u001b[39m\n\u001b[1;32m----> 3\u001b[0m transfer_server \u001b[38;5;241m=\u001b[39m \u001b[43mFhirServer\u001b[49m(api_address\u001b[38;5;241m=\u001b[39mtransfer_api_url, username\u001b[38;5;241m=\u001b[39musername, password\u001b[38;5;241m=\u001b[39mpassword)\n\u001b[0;32m      5\u001b[0m server\u001b[38;5;241m.\u001b[39mtransfer(transfer_server, covid_response)\n",
      "\u001b[1;31mNameError\u001b[0m: name 'FhirServer' is not defined"
     ]
    }
   ],
   "source": [
    "# define a new server\n",
    "transfer_api_url = \"https://demo.personalhealthtrain.de/demo-fhir-4\"\n",
    "transfer_server = FhirServer(api_address=transfer_api_url, username=username, password=password)\n",
    "\n",
    "server.transfer(transfer_server, covid_response)"
   ]
  },
  {
   "cell_type": "markdown",
   "metadata": {
    "slideshow": {
     "slide_type": "fragment"
    }
   },
   "source": [
    "### Check that the resources are now available"
   ]
  },
  {
   "cell_type": "code",
   "execution_count": null,
   "metadata": {},
   "outputs": [],
   "source": [
    "transfer_covid_query = transfer_server.query(\"Patient\").has(\n",
    "    resource=\"Condition\",\n",
    "    search_param=\"code\",\n",
    "    operator=QueryOperators.eq,\n",
    "    value=\"RA01.0\",\n",
    "    reference_param=\"subject\",\n",
    ")\n",
    "transfer_covid_query.all()"
   ]
  },
  {
   "cell_type": "markdown",
   "metadata": {
    "slideshow": {
     "slide_type": "slide"
    }
   },
   "source": [
    "<center><h2>Questions?</h2></center>\n",
    "\n",
    "\n",
    "<center><h2>Feature requests and contributions are very welcome!</h2></center>"
   ]
  }
 ],
 "metadata": {
  "celltoolbar": "Slideshow",
  "kernelspec": {
   "display_name": "Python 3 (ipykernel)",
   "language": "python",
   "name": "python3"
  },
  "language_info": {
   "codemirror_mode": {
    "name": "ipython",
    "version": 3
   },
   "file_extension": ".py",
   "mimetype": "text/x-python",
   "name": "python",
   "nbconvert_exporter": "python",
   "pygments_lexer": "ipython3",
   "version": "3.9.5"
  }
 },
 "nbformat": 4,
 "nbformat_minor": 1
}
