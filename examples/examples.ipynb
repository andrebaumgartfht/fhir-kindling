{
 "cells": [
  {
   "cell_type": "code",
   "execution_count": 1,
   "outputs": [],
   "source": [
    "import json\n",
    "import os\n",
    "from dotenv import load_dotenv, find_dotenv\n",
    "from fhir.resources.codeableconcept import CodeableConcept\n",
    "from fhir.resources.coding import Coding\n",
    "from fhir.resources.condition import Condition\n",
    "import pandas as pd\n",
    "from fhir_kindling import FhirServer\n",
    "\n",
    "from fhir_kindling.generators import PatientGenerator"
   ],
   "metadata": {
    "collapsed": false,
    "pycharm": {
     "name": "#%%\n"
    }
   }
  },
  {
   "cell_type": "code",
   "execution_count": 2,
   "outputs": [],
   "source": [
    "%load_ext autoreload\n",
    "%autoreload 2"
   ],
   "metadata": {
    "collapsed": false,
    "pycharm": {
     "name": "#%%\n"
    }
   }
  },
  {
   "cell_type": "code",
   "execution_count": 3,
   "outputs": [
    {
     "name": "stdout",
     "output_type": "stream",
     "text": [
      "Requesting new token\n"
     ]
    }
   ],
   "source": [
    "load_dotenv(find_dotenv())\n",
    "\n",
    "username = os.getenv(\"FHIR_USER\")\n",
    "password = os.getenv(\"FHIR_PW\")\n",
    "token = os.getenv(\"FHIR_TOKEN\")\n",
    "\n",
    "blaze_api = \"http://localhost:9090/fhir\"\n",
    "\n",
    "server = FhirServer(\n",
    "        api_address=blaze_api,\n",
    "        client_id=os.getenv(\"CLIENT_ID\"),\n",
    "        client_secret=os.getenv(\"CLIENT_SECRET\"),\n",
    "        oidc_provider_url=os.getenv(\"OIDC_PROVIDER_URL\")\n",
    "    )\n"
   ],
   "metadata": {
    "collapsed": false,
    "pycharm": {
     "name": "#%%\n"
    }
   }
  },
  {
   "cell_type": "code",
   "execution_count": 7,
   "outputs": [
    {
     "name": "stderr",
     "output_type": "stream",
     "text": [
      "[autoreload of IPython.utils.ipstruct failed: Traceback (most recent call last):\n",
      "  File \"C:\\Users\\micha\\.virtualenvs\\fhir_kindling-4Qq52x2x\\lib\\site-packages\\IPython\\extensions\\autoreload.py\", line 245, in check\n",
      "    superreload(m, reload, self.old_objects)\n",
      "  File \"C:\\Users\\micha\\.virtualenvs\\fhir_kindling-4Qq52x2x\\lib\\site-packages\\IPython\\extensions\\autoreload.py\", line 410, in superreload\n",
      "    update_generic(old_obj, new_obj)\n",
      "  File \"C:\\Users\\micha\\.virtualenvs\\fhir_kindling-4Qq52x2x\\lib\\site-packages\\IPython\\extensions\\autoreload.py\", line 347, in update_generic\n",
      "    update(a, b)\n",
      "  File \"C:\\Users\\micha\\.virtualenvs\\fhir_kindling-4Qq52x2x\\lib\\site-packages\\IPython\\extensions\\autoreload.py\", line 317, in update_class\n",
      "    update_instances(old, new)\n",
      "  File \"C:\\Users\\micha\\.virtualenvs\\fhir_kindling-4Qq52x2x\\lib\\site-packages\\IPython\\extensions\\autoreload.py\", line 280, in update_instances\n",
      "    ref.__class__ = new\n",
      "  File \"C:\\Users\\micha\\.virtualenvs\\fhir_kindling-4Qq52x2x\\lib\\site-packages\\IPython\\utils\\ipstruct.py\", line 117, in __setattr__\n",
      "    raise AttributeError(\n",
      "AttributeError: attr __class__ is a protected member of class Struct.\n",
      "]\n"
     ]
    },
    {
     "ename": "TypeError",
     "evalue": "isinstance() arg 2 must be a type or tuple of types",
     "output_type": "error",
     "traceback": [
      "\u001B[1;31m---------------------------------------------------------------------------\u001B[0m",
      "\u001B[1;31mTypeError\u001B[0m                                 Traceback (most recent call last)",
      "\u001B[1;32m~\\.virtualenvs\\fhir_kindling-4Qq52x2x\\lib\\site-packages\\IPython\\core\\async_helpers.py\u001B[0m in \u001B[0;36m_pseudo_sync_runner\u001B[1;34m(coro)\u001B[0m\n\u001B[0;32m     66\u001B[0m     \"\"\"\n\u001B[0;32m     67\u001B[0m     \u001B[1;32mtry\u001B[0m\u001B[1;33m:\u001B[0m\u001B[1;33m\u001B[0m\u001B[1;33m\u001B[0m\u001B[0m\n\u001B[1;32m---> 68\u001B[1;33m         \u001B[0mcoro\u001B[0m\u001B[1;33m.\u001B[0m\u001B[0msend\u001B[0m\u001B[1;33m(\u001B[0m\u001B[1;32mNone\u001B[0m\u001B[1;33m)\u001B[0m\u001B[1;33m\u001B[0m\u001B[1;33m\u001B[0m\u001B[0m\n\u001B[0m\u001B[0;32m     69\u001B[0m     \u001B[1;32mexcept\u001B[0m \u001B[0mStopIteration\u001B[0m \u001B[1;32mas\u001B[0m \u001B[0mexc\u001B[0m\u001B[1;33m:\u001B[0m\u001B[1;33m\u001B[0m\u001B[1;33m\u001B[0m\u001B[0m\n\u001B[0;32m     70\u001B[0m         \u001B[1;32mreturn\u001B[0m \u001B[0mexc\u001B[0m\u001B[1;33m.\u001B[0m\u001B[0mvalue\u001B[0m\u001B[1;33m\u001B[0m\u001B[1;33m\u001B[0m\u001B[0m\n",
      "\u001B[1;32m~\\.virtualenvs\\fhir_kindling-4Qq52x2x\\lib\\site-packages\\IPython\\core\\interactiveshell.py\u001B[0m in \u001B[0;36mrun_cell_async\u001B[1;34m(self, raw_cell, store_history, silent, shell_futures, transformed_cell, preprocessing_exc_tuple)\u001B[0m\n\u001B[0;32m   3163\u001B[0m                 \u001B[1;31m# Give the displayhook a reference to our ExecutionResult so it\u001B[0m\u001B[1;33m\u001B[0m\u001B[1;33m\u001B[0m\u001B[1;33m\u001B[0m\u001B[0m\n\u001B[0;32m   3164\u001B[0m                 \u001B[1;31m# can fill in the output value.\u001B[0m\u001B[1;33m\u001B[0m\u001B[1;33m\u001B[0m\u001B[1;33m\u001B[0m\u001B[0m\n\u001B[1;32m-> 3165\u001B[1;33m                 \u001B[0mself\u001B[0m\u001B[1;33m.\u001B[0m\u001B[0mdisplayhook\u001B[0m\u001B[1;33m.\u001B[0m\u001B[0mexec_result\u001B[0m \u001B[1;33m=\u001B[0m \u001B[0mresult\u001B[0m\u001B[1;33m\u001B[0m\u001B[1;33m\u001B[0m\u001B[0m\n\u001B[0m\u001B[0;32m   3166\u001B[0m \u001B[1;33m\u001B[0m\u001B[0m\n\u001B[0;32m   3167\u001B[0m                 \u001B[1;31m# Execute the user code\u001B[0m\u001B[1;33m\u001B[0m\u001B[1;33m\u001B[0m\u001B[1;33m\u001B[0m\u001B[0m\n",
      "\u001B[1;32m~\\.virtualenvs\\fhir_kindling-4Qq52x2x\\lib\\site-packages\\traitlets\\traitlets.py\u001B[0m in \u001B[0;36m__set__\u001B[1;34m(self, obj, value)\u001B[0m\n\u001B[0;32m    604\u001B[0m             \u001B[1;32mraise\u001B[0m \u001B[0mTraitError\u001B[0m\u001B[1;33m(\u001B[0m\u001B[1;34m'The \"%s\" trait is read-only.'\u001B[0m \u001B[1;33m%\u001B[0m \u001B[0mself\u001B[0m\u001B[1;33m.\u001B[0m\u001B[0mname\u001B[0m\u001B[1;33m)\u001B[0m\u001B[1;33m\u001B[0m\u001B[1;33m\u001B[0m\u001B[0m\n\u001B[0;32m    605\u001B[0m         \u001B[1;32melse\u001B[0m\u001B[1;33m:\u001B[0m\u001B[1;33m\u001B[0m\u001B[1;33m\u001B[0m\u001B[0m\n\u001B[1;32m--> 606\u001B[1;33m             \u001B[0mself\u001B[0m\u001B[1;33m.\u001B[0m\u001B[0mset\u001B[0m\u001B[1;33m(\u001B[0m\u001B[0mobj\u001B[0m\u001B[1;33m,\u001B[0m \u001B[0mvalue\u001B[0m\u001B[1;33m)\u001B[0m\u001B[1;33m\u001B[0m\u001B[1;33m\u001B[0m\u001B[0m\n\u001B[0m\u001B[0;32m    607\u001B[0m \u001B[1;33m\u001B[0m\u001B[0m\n\u001B[0;32m    608\u001B[0m     \u001B[1;32mdef\u001B[0m \u001B[0m_validate\u001B[0m\u001B[1;33m(\u001B[0m\u001B[0mself\u001B[0m\u001B[1;33m,\u001B[0m \u001B[0mobj\u001B[0m\u001B[1;33m,\u001B[0m \u001B[0mvalue\u001B[0m\u001B[1;33m)\u001B[0m\u001B[1;33m:\u001B[0m\u001B[1;33m\u001B[0m\u001B[1;33m\u001B[0m\u001B[0m\n",
      "\u001B[1;32m~\\.virtualenvs\\fhir_kindling-4Qq52x2x\\lib\\site-packages\\traitlets\\traitlets.py\u001B[0m in \u001B[0;36mset\u001B[1;34m(self, obj, value)\u001B[0m\n\u001B[0;32m    578\u001B[0m \u001B[1;33m\u001B[0m\u001B[0m\n\u001B[0;32m    579\u001B[0m     \u001B[1;32mdef\u001B[0m \u001B[0mset\u001B[0m\u001B[1;33m(\u001B[0m\u001B[0mself\u001B[0m\u001B[1;33m,\u001B[0m \u001B[0mobj\u001B[0m\u001B[1;33m,\u001B[0m \u001B[0mvalue\u001B[0m\u001B[1;33m)\u001B[0m\u001B[1;33m:\u001B[0m\u001B[1;33m\u001B[0m\u001B[1;33m\u001B[0m\u001B[0m\n\u001B[1;32m--> 580\u001B[1;33m         \u001B[0mnew_value\u001B[0m \u001B[1;33m=\u001B[0m \u001B[0mself\u001B[0m\u001B[1;33m.\u001B[0m\u001B[0m_validate\u001B[0m\u001B[1;33m(\u001B[0m\u001B[0mobj\u001B[0m\u001B[1;33m,\u001B[0m \u001B[0mvalue\u001B[0m\u001B[1;33m)\u001B[0m\u001B[1;33m\u001B[0m\u001B[1;33m\u001B[0m\u001B[0m\n\u001B[0m\u001B[0;32m    581\u001B[0m         \u001B[1;32mtry\u001B[0m\u001B[1;33m:\u001B[0m\u001B[1;33m\u001B[0m\u001B[1;33m\u001B[0m\u001B[0m\n\u001B[0;32m    582\u001B[0m             \u001B[0mold_value\u001B[0m \u001B[1;33m=\u001B[0m \u001B[0mobj\u001B[0m\u001B[1;33m.\u001B[0m\u001B[0m_trait_values\u001B[0m\u001B[1;33m[\u001B[0m\u001B[0mself\u001B[0m\u001B[1;33m.\u001B[0m\u001B[0mname\u001B[0m\u001B[1;33m]\u001B[0m\u001B[1;33m\u001B[0m\u001B[1;33m\u001B[0m\u001B[0m\n",
      "\u001B[1;32m~\\.virtualenvs\\fhir_kindling-4Qq52x2x\\lib\\site-packages\\traitlets\\traitlets.py\u001B[0m in \u001B[0;36m_validate\u001B[1;34m(self, obj, value)\u001B[0m\n\u001B[0;32m    610\u001B[0m             \u001B[1;32mreturn\u001B[0m \u001B[0mvalue\u001B[0m\u001B[1;33m\u001B[0m\u001B[1;33m\u001B[0m\u001B[0m\n\u001B[0;32m    611\u001B[0m         \u001B[1;32mif\u001B[0m \u001B[0mhasattr\u001B[0m\u001B[1;33m(\u001B[0m\u001B[0mself\u001B[0m\u001B[1;33m,\u001B[0m \u001B[1;34m'validate'\u001B[0m\u001B[1;33m)\u001B[0m\u001B[1;33m:\u001B[0m\u001B[1;33m\u001B[0m\u001B[1;33m\u001B[0m\u001B[0m\n\u001B[1;32m--> 612\u001B[1;33m             \u001B[0mvalue\u001B[0m \u001B[1;33m=\u001B[0m \u001B[0mself\u001B[0m\u001B[1;33m.\u001B[0m\u001B[0mvalidate\u001B[0m\u001B[1;33m(\u001B[0m\u001B[0mobj\u001B[0m\u001B[1;33m,\u001B[0m \u001B[0mvalue\u001B[0m\u001B[1;33m)\u001B[0m\u001B[1;33m\u001B[0m\u001B[1;33m\u001B[0m\u001B[0m\n\u001B[0m\u001B[0;32m    613\u001B[0m         \u001B[1;32mif\u001B[0m \u001B[0mobj\u001B[0m\u001B[1;33m.\u001B[0m\u001B[0m_cross_validation_lock\u001B[0m \u001B[1;32mis\u001B[0m \u001B[1;32mFalse\u001B[0m\u001B[1;33m:\u001B[0m\u001B[1;33m\u001B[0m\u001B[1;33m\u001B[0m\u001B[0m\n\u001B[0;32m    614\u001B[0m             \u001B[0mvalue\u001B[0m \u001B[1;33m=\u001B[0m \u001B[0mself\u001B[0m\u001B[1;33m.\u001B[0m\u001B[0m_cross_validate\u001B[0m\u001B[1;33m(\u001B[0m\u001B[0mobj\u001B[0m\u001B[1;33m,\u001B[0m \u001B[0mvalue\u001B[0m\u001B[1;33m)\u001B[0m\u001B[1;33m\u001B[0m\u001B[1;33m\u001B[0m\u001B[0m\n",
      "\u001B[1;32m~\\.virtualenvs\\fhir_kindling-4Qq52x2x\\lib\\site-packages\\traitlets\\traitlets.py\u001B[0m in \u001B[0;36mvalidate\u001B[1;34m(self, obj, value)\u001B[0m\n\u001B[0;32m   1846\u001B[0m \u001B[1;33m\u001B[0m\u001B[0m\n\u001B[0;32m   1847\u001B[0m     \u001B[1;32mdef\u001B[0m \u001B[0mvalidate\u001B[0m\u001B[1;33m(\u001B[0m\u001B[0mself\u001B[0m\u001B[1;33m,\u001B[0m \u001B[0mobj\u001B[0m\u001B[1;33m,\u001B[0m \u001B[0mvalue\u001B[0m\u001B[1;33m)\u001B[0m\u001B[1;33m:\u001B[0m\u001B[1;33m\u001B[0m\u001B[1;33m\u001B[0m\u001B[0m\n\u001B[1;32m-> 1848\u001B[1;33m         \u001B[1;32mif\u001B[0m \u001B[0misinstance\u001B[0m\u001B[1;33m(\u001B[0m\u001B[0mvalue\u001B[0m\u001B[1;33m,\u001B[0m \u001B[0mself\u001B[0m\u001B[1;33m.\u001B[0m\u001B[0mklass\u001B[0m\u001B[1;33m)\u001B[0m\u001B[1;33m:\u001B[0m\u001B[1;33m\u001B[0m\u001B[1;33m\u001B[0m\u001B[0m\n\u001B[0m\u001B[0;32m   1849\u001B[0m             \u001B[1;32mreturn\u001B[0m \u001B[0mvalue\u001B[0m\u001B[1;33m\u001B[0m\u001B[1;33m\u001B[0m\u001B[0m\n\u001B[0;32m   1850\u001B[0m         \u001B[1;32melse\u001B[0m\u001B[1;33m:\u001B[0m\u001B[1;33m\u001B[0m\u001B[1;33m\u001B[0m\u001B[0m\n",
      "\u001B[1;31mTypeError\u001B[0m: isinstance() arg 2 must be a type or tuple of types"
     ]
    }
   ],
   "source": [
    "resp = server.query(\"Patient\", output_format=\"xml\")\n",
    "result = resp.all()\n",
    "print(result)"
   ],
   "metadata": {
    "collapsed": false,
    "pycharm": {
     "name": "#%%\n"
    }
   }
  },
  {
   "cell_type": "code",
   "execution_count": 11,
   "outputs": [
    {
     "name": "stdout",
     "output_type": "stream",
     "text": [
      "resource_type='Patient' fhir_comments=None id=None id__ext=None implicitRules=None implicitRules__ext=None language=None language__ext=None meta=None contained=None extension=None modifierExtension=None text=None active=None active__ext=None address=None birthDate=None birthDate__ext=None communication=None contact=None deceasedBoolean=None deceasedBoolean__ext=None deceasedDateTime=None deceasedDateTime__ext=None gender=None gender__ext=None generalPractitioner=None identifier=None link=None managingOrganization=None maritalStatus=None multipleBirthBoolean=None multipleBirthBoolean__ext=None multipleBirthInteger=None multipleBirthInteger__ext=None name=None photo=None telecom=None\n",
      "{\"id\":\"C7FWRPBR5R2HFR6A\",\"type\":\"searchset\",\"entry\":[{\"fullUrl\":\"http://localhost:8080/fhir/Patient/C7E64KWQ6FOK7VH7\",\"resource\":{\"meta\":{\"versionId\":\"27\",\"lastUpdated\":\"2021-10-20T18:07:08.130Z\"},\"name\":[{\"given\":[\"Mirac\"],\"family\":\"Carignan\"}],\"birthDate\":\"1999-11-01\",\"resourceType\":\"Patient\",\"id\":\"C7E64KWQ6FOK7VH7\",\"gender\":\"female\"},\"search\":{\"mode\":\"match\"}},{\"fullUrl\":\"http://localhost:8080/fhir/Patient/C7E64KWQ6FOK7VI2\",\"resource\":{\"meta\":{\"versionId\":\"27\",\"lastUpdated\":\"2021-10-20T18:07:08.130Z\"},\"name\":[{\"given\":[\"Velmarie\"],\"family\":\"Lougheed\"}],\"birthDate\":\"1969-12-01\",\"resourceType\":\"Patient\",\"id\":\"C7E64KWQ6FOK7VI2\",\"gender\":\"male\"},\"search\":{\"mode\":\"match\"}},{\"fullUrl\":\"http://localhost:8080/fhir/Patient/C7E64KWQ6FOK7VI3\",\"resource\":{\"meta\":{\"versionId\":\"27\",\"lastUpdated\":\"2021-10-20T18:07:08.130Z\"},\"name\":[{\"given\":[\"Cobi\"],\"family\":\"Solimeno\"}],\"birthDate\":\"1977-05-19\",\"resourceType\":\"Patient\",\"id\":\"C7E64KWQ6FOK7VI3\",\"gender\":\"male\"},\"search\":{\"mode\":\"match\"}},{\"fullUrl\":\"http://localhost:8080/fhir/Patient/C7E64KWQ6FOK7VI4\",\"resource\":{\"meta\":{\"versionId\":\"27\",\"lastUpdated\":\"2021-10-20T18:07:08.130Z\"},\"name\":[{\"given\":[\"Shacoya\"],\"family\":\"Lester\"}],\"birthDate\":\"1979-03-31\",\"resourceType\":\"Patient\",\"id\":\"C7E64KWQ6FOK7VI4\",\"gender\":\"male\"},\"search\":{\"mode\":\"match\"}},{\"fullUrl\":\"http://localhost:8080/fhir/Patient/C7E64KWQ6FOK7VI5\",\"resource\":{\"meta\":{\"versionId\":\"27\",\"lastUpdated\":\"2021-10-20T18:07:08.130Z\"},\"name\":[{\"given\":[\"Ethian\"],\"family\":\"Kassin\"}],\"birthDate\":\"1967-05-17\",\"resourceType\":\"Patient\",\"id\":\"C7E64KWQ6FOK7VI5\",\"gender\":\"male\"},\"search\":{\"mode\":\"match\"}},{\"fullUrl\":\"http://localhost:8080/fhir/Patient/C7E64KWQ6FOK7VI6\",\"resource\":{\"meta\":{\"versionId\":\"27\",\"lastUpdated\":\"2021-10-20T18:07:08.130Z\"},\"name\":[{\"given\":[\"Ernel\"],\"family\":\"Weik\"}],\"birthDate\":\"1975-03-29\",\"resourceType\":\"Patient\",\"id\":\"C7E64KWQ6FOK7VI6\",\"gender\":\"male\"},\"search\":{\"mode\":\"match\"}},{\"fullUrl\":\"http://localhost:8080/fhir/Patient/C7E64KWQ6FOK7VI7\",\"resource\":{\"meta\":{\"versionId\":\"27\",\"lastUpdated\":\"2021-10-20T18:07:08.130Z\"},\"name\":[{\"given\":[\"Kinsly\"],\"family\":\"Einhorn\"}],\"birthDate\":\"1989-03-21\",\"resourceType\":\"Patient\",\"id\":\"C7E64KWQ6FOK7VI7\",\"gender\":\"male\"},\"search\":{\"mode\":\"match\"}},{\"fullUrl\":\"http://localhost:8080/fhir/Patient/C7E64KWQ6FOK7VIA\",\"resource\":{\"meta\":{\"versionId\":\"27\",\"lastUpdated\":\"2021-10-20T18:07:08.130Z\"},\"name\":[{\"given\":[\"Jessican\"],\"family\":\"Kremers\"}],\"birthDate\":\"1934-06-15\",\"resourceType\":\"Patient\",\"id\":\"C7E64KWQ6FOK7VIA\",\"gender\":\"male\"},\"search\":{\"mode\":\"match\"}},{\"fullUrl\":\"http://localhost:8080/fhir/Patient/C7E64KWQ6FOK7VIB\",\"resource\":{\"meta\":{\"versionId\":\"27\",\"lastUpdated\":\"2021-10-20T18:07:08.130Z\"},\"name\":[{\"given\":[\"Amitava\"],\"family\":\"Weininger\"}],\"birthDate\":\"1925-10-04\",\"resourceType\":\"Patient\",\"id\":\"C7E64KWQ6FOK7VIB\",\"gender\":\"female\"},\"search\":{\"mode\":\"match\"}},{\"fullUrl\":\"http://localhost:8080/fhir/Patient/C7E64KWQ6FOK7VIC\",\"resource\":{\"meta\":{\"versionId\":\"27\",\"lastUpdated\":\"2021-10-20T18:07:08.130Z\"},\"name\":[{\"given\":[\"M'kai\"],\"family\":\"Nisly\"}],\"birthDate\":\"1995-03-01\",\"resourceType\":\"Patient\",\"id\":\"C7E64KWQ6FOK7VIC\",\"gender\":\"female\"},\"search\":{\"mode\":\"match\"}},{\"fullUrl\":\"http://localhost:8080/fhir/Patient/C7E64KWQ6FOK7VID\",\"resource\":{\"meta\":{\"versionId\":\"27\",\"lastUpdated\":\"2021-10-20T18:07:08.130Z\"},\"name\":[{\"given\":[\"Rogerio\"],\"family\":\"Mussell\"}],\"birthDate\":\"1973-06-17\",\"resourceType\":\"Patient\",\"id\":\"C7E64KWQ6FOK7VID\",\"gender\":\"female\"},\"search\":{\"mode\":\"match\"}},{\"fullUrl\":\"http://localhost:8080/fhir/Patient/C7E64KWQ6FOK7VIE\",\"resource\":{\"meta\":{\"versionId\":\"27\",\"lastUpdated\":\"2021-10-20T18:07:08.130Z\"},\"name\":[{\"given\":[\"Natashya\"],\"family\":\"Muszynski\"}],\"birthDate\":\"1923-02-08\",\"resourceType\":\"Patient\",\"id\":\"C7E64KWQ6FOK7VIE\",\"gender\":\"male\"},\"search\":{\"mode\":\"match\"}},{\"fullUrl\":\"http://localhost:8080/fhir/Patient/C7E64KWQ6FOK7VIF\",\"resource\":{\"meta\":{\"versionId\":\"27\",\"lastUpdated\":\"2021-10-20T18:07:08.130Z\"},\"name\":[{\"given\":[\"Keyshand\"],\"family\":\"Soteros\"}],\"birthDate\":\"1963-08-07\",\"resourceType\":\"Patient\",\"id\":\"C7E64KWQ6FOK7VIF\",\"gender\":\"male\"},\"search\":{\"mode\":\"match\"}},{\"fullUrl\":\"http://localhost:8080/fhir/Patient/C7E64KWQ6FOK7VIG\",\"resource\":{\"meta\":{\"versionId\":\"27\",\"lastUpdated\":\"2021-10-20T18:07:08.130Z\"},\"name\":[{\"given\":[\"Cellan\"],\"family\":\"Wayland\"}],\"birthDate\":\"1969-02-09\",\"resourceType\":\"Patient\",\"id\":\"C7E64KWQ6FOK7VIG\",\"gender\":\"male\"},\"search\":{\"mode\":\"match\"}},{\"fullUrl\":\"http://localhost:8080/fhir/Patient/C7E64KWQ6FOK7VIH\",\"resource\":{\"meta\":{\"versionId\":\"27\",\"lastUpdated\":\"2021-10-20T18:07:08.130Z\"},\"name\":[{\"given\":[\"Karolann\"],\"family\":\"Nemec\"}],\"birthDate\":\"1996-11-29\",\"resourceType\":\"Patient\",\"id\":\"C7E64KWQ6FOK7VIH\",\"gender\":\"male\"},\"search\":{\"mode\":\"match\"}},{\"fullUrl\":\"http://localhost:8080/fhir/Patient/C7E64KWQ6FOK7VII\",\"resource\":{\"meta\":{\"versionId\":\"27\",\"lastUpdated\":\"2021-10-20T18:07:08.130Z\"},\"name\":[{\"given\":[\"Lizabet\"],\"family\":\"Shadik\"}],\"birthDate\":\"2003-02-10\",\"resourceType\":\"Patient\",\"id\":\"C7E64KWQ6FOK7VII\",\"gender\":\"male\"},\"search\":{\"mode\":\"match\"}},{\"fullUrl\":\"http://localhost:8080/fhir/Patient/C7E64KWQ6FOK7VIJ\",\"resource\":{\"meta\":{\"versionId\":\"27\",\"lastUpdated\":\"2021-10-20T18:07:08.130Z\"},\"name\":[{\"given\":[\"Blimie\"],\"family\":\"Farnese\"}],\"birthDate\":\"1990-01-25\",\"resourceType\":\"Patient\",\"id\":\"C7E64KWQ6FOK7VIJ\",\"gender\":\"male\"},\"search\":{\"mode\":\"match\"}},{\"fullUrl\":\"http://localhost:8080/fhir/Patient/C7E64KWQ6FOK7VIK\",\"resource\":{\"meta\":{\"versionId\":\"27\",\"lastUpdated\":\"2021-10-20T18:07:08.130Z\"},\"name\":[{\"given\":[\"Dur-e-mcknoon\"],\"family\":\"Gwilt\"}],\"birthDate\":\"1995-09-15\",\"resourceType\":\"Patient\",\"id\":\"C7E64KWQ6FOK7VIK\",\"gender\":\"male\"},\"search\":{\"mode\":\"match\"}},{\"fullUrl\":\"http://localhost:8080/fhir/Patient/C7E64KWQ6FOK7VIL\",\"resource\":{\"meta\":{\"versionId\":\"27\",\"lastUpdated\":\"2021-10-20T18:07:08.130Z\"},\"name\":[{\"given\":[\"Beckette\"],\"family\":\"Bhanu\"}],\"birthDate\":\"1971-10-05\",\"resourceType\":\"Patient\",\"id\":\"C7E64KWQ6FOK7VIL\",\"gender\":\"female\"},\"search\":{\"mode\":\"match\"}},{\"fullUrl\":\"http://localhost:8080/fhir/Patient/C7E64KWQ6FOK7VIM\",\"resource\":{\"meta\":{\"versionId\":\"27\",\"lastUpdated\":\"2021-10-20T18:07:08.130Z\"},\"name\":[{\"given\":[\"Austynn\"],\"family\":\"Kleppinger\"}],\"birthDate\":\"1945-05-05\",\"resourceType\":\"Patient\",\"id\":\"C7E64KWQ6FOK7VIM\",\"gender\":\"female\"},\"search\":{\"mode\":\"match\"}},{\"fullUrl\":\"http://localhost:8080/fhir/Patient/C7E64KWQ6FOK7VIN\",\"resource\":{\"meta\":{\"versionId\":\"27\",\"lastUpdated\":\"2021-10-20T18:07:08.130Z\"},\"name\":[{\"given\":[\"Mirabel\"],\"family\":\"Umbach\"}],\"birthDate\":\"1960-11-16\",\"resourceType\":\"Patient\",\"id\":\"C7E64KWQ6FOK7VIN\",\"gender\":\"female\"},\"search\":{\"mode\":\"match\"}},{\"fullUrl\":\"http://localhost:8080/fhir/Patient/C7E64KWQ6FOK7VIO\",\"resource\":{\"meta\":{\"versionId\":\"27\",\"lastUpdated\":\"2021-10-20T18:07:08.130Z\"},\"name\":[{\"given\":[\"Mahraj\"],\"family\":\"Vishanu\"}],\"birthDate\":\"1985-06-29\",\"resourceType\":\"Patient\",\"id\":\"C7E64KWQ6FOK7VIO\",\"gender\":\"female\"},\"search\":{\"mode\":\"match\"}},{\"fullUrl\":\"http://localhost:8080/fhir/Patient/C7E64KWQ6FOK7VIP\",\"resource\":{\"meta\":{\"versionId\":\"27\",\"lastUpdated\":\"2021-10-20T18:07:08.130Z\"},\"name\":[{\"given\":[\"Conaugh\"],\"family\":\"Lauth\"}],\"birthDate\":\"1937-02-04\",\"resourceType\":\"Patient\",\"id\":\"C7E64KWQ6FOK7VIP\",\"gender\":\"other\"},\"search\":{\"mode\":\"match\"}},{\"fullUrl\":\"http://localhost:8080/fhir/Patient/C7E64KWQ6FOK7VIQ\",\"resource\":{\"meta\":{\"versionId\":\"27\",\"lastUpdated\":\"2021-10-20T18:07:08.130Z\"},\"name\":[{\"given\":[\"Berendina\"],\"family\":\"Samok\"}],\"birthDate\":\"1988-10-29\",\"resourceType\":\"Patient\",\"id\":\"C7E64KWQ6FOK7VIQ\",\"gender\":\"male\"},\"search\":{\"mode\":\"match\"}},{\"fullUrl\":\"http://localhost:8080/fhir/Patient/C7E64KWQ6FOK7VIR\",\"resource\":{\"meta\":{\"versionId\":\"27\",\"lastUpdated\":\"2021-10-20T18:07:08.130Z\"},\"name\":[{\"given\":[\"Glinda\"],\"family\":\"Kubasik\"}],\"birthDate\":\"1944-02-06\",\"resourceType\":\"Patient\",\"id\":\"C7E64KWQ6FOK7VIR\",\"gender\":\"male\"},\"search\":{\"mode\":\"match\"}},{\"fullUrl\":\"http://localhost:8080/fhir/Patient/C7E64KWQ6FOK7VIS\",\"resource\":{\"meta\":{\"versionId\":\"27\",\"lastUpdated\":\"2021-10-20T18:07:08.130Z\"},\"name\":[{\"given\":[\"Tautiana\"],\"family\":\"Blas\"}],\"birthDate\":\"1954-08-15\",\"resourceType\":\"Patient\",\"id\":\"C7E64KWQ6FOK7VIS\",\"gender\":\"female\"},\"search\":{\"mode\":\"match\"}},{\"fullUrl\":\"http://localhost:8080/fhir/Patient/C7E64KWQ6FOK7VIT\",\"resource\":{\"meta\":{\"versionId\":\"27\",\"lastUpdated\":\"2021-10-20T18:07:08.130Z\"},\"name\":[{\"given\":[\"Emiri\"],\"family\":\"Netto\"}],\"birthDate\":\"1948-06-21\",\"resourceType\":\"Patient\",\"id\":\"C7E64KWQ6FOK7VIT\",\"gender\":\"female\"},\"search\":{\"mode\":\"match\"}},{\"fullUrl\":\"http://localhost:8080/fhir/Patient/C7E64KWQ6FOK7VIU\",\"resource\":{\"meta\":{\"versionId\":\"27\",\"lastUpdated\":\"2021-10-20T18:07:08.130Z\"},\"name\":[{\"given\":[\"Sassa\"],\"family\":\"Dennin\"}],\"birthDate\":\"1976-04-26\",\"resourceType\":\"Patient\",\"id\":\"C7E64KWQ6FOK7VIU\",\"gender\":\"female\"},\"search\":{\"mode\":\"match\"}},{\"fullUrl\":\"http://localhost:8080/fhir/Patient/C7E64KWQ6FOK7VIV\",\"resource\":{\"meta\":{\"versionId\":\"27\",\"lastUpdated\":\"2021-10-20T18:07:08.130Z\"},\"name\":[{\"given\":[\"Dimitrios\"],\"family\":\"Fietek\"}],\"birthDate\":\"1933-06-05\",\"resourceType\":\"Patient\",\"id\":\"C7E64KWQ6FOK7VIV\",\"gender\":\"female\"},\"search\":{\"mode\":\"match\"}},{\"fullUrl\":\"http://localhost:8080/fhir/Patient/C7E64KWQ6FOK7VIW\",\"resource\":{\"meta\":{\"versionId\":\"27\",\"lastUpdated\":\"2021-10-20T18:07:08.130Z\"},\"name\":[{\"given\":[\"Keiara\"],\"family\":\"Pilarski\"}],\"birthDate\":\"1929-02-21\",\"resourceType\":\"Patient\",\"id\":\"C7E64KWQ6FOK7VIW\",\"gender\":\"female\"},\"search\":{\"mode\":\"match\"}},{\"fullUrl\":\"http://localhost:8080/fhir/Patient/C7E64KWQ6FOK7VIX\",\"resource\":{\"meta\":{\"versionId\":\"27\",\"lastUpdated\":\"2021-10-20T18:07:08.130Z\"},\"name\":[{\"given\":[\"Akalya\"],\"family\":\"Gillert\"}],\"birthDate\":\"1970-08-07\",\"resourceType\":\"Patient\",\"id\":\"C7E64KWQ6FOK7VIX\",\"gender\":\"female\"},\"search\":{\"mode\":\"match\"}},{\"fullUrl\":\"http://localhost:8080/fhir/Patient/C7E64KWQ6FOK7VIY\",\"resource\":{\"meta\":{\"versionId\":\"27\",\"lastUpdated\":\"2021-10-20T18:07:08.130Z\"},\"name\":[{\"given\":[\"Duric\"],\"family\":\"Escalon\"}],\"birthDate\":\"1954-02-08\",\"resourceType\":\"Patient\",\"id\":\"C7E64KWQ6FOK7VIY\",\"gender\":\"female\"},\"search\":{\"mode\":\"match\"}},{\"fullUrl\":\"http://localhost:8080/fhir/Patient/C7E64KWQ6FOK7VIZ\",\"resource\":{\"meta\":{\"versionId\":\"27\",\"lastUpdated\":\"2021-10-20T18:07:08.130Z\"},\"name\":[{\"given\":[\"Shelsey\"],\"family\":\"Altew\"}],\"birthDate\":\"1936-05-24\",\"resourceType\":\"Patient\",\"id\":\"C7E64KWQ6FOK7VIZ\",\"gender\":\"male\"},\"search\":{\"mode\":\"match\"}},{\"fullUrl\":\"http://localhost:8080/fhir/Patient/C7E64KWQ6FOK7VJ2\",\"resource\":{\"meta\":{\"versionId\":\"27\",\"lastUpdated\":\"2021-10-20T18:07:08.130Z\"},\"name\":[{\"given\":[\"Breasia\"],\"family\":\"Schellenberge\"}],\"birthDate\":\"1954-03-23\",\"resourceType\":\"Patient\",\"id\":\"C7E64KWQ6FOK7VJ2\",\"gender\":\"female\"},\"search\":{\"mode\":\"match\"}},{\"fullUrl\":\"http://localhost:8080/fhir/Patient/C7E64KWQ6FOK7VJ3\",\"resource\":{\"meta\":{\"versionId\":\"27\",\"lastUpdated\":\"2021-10-20T18:07:08.130Z\"},\"name\":[{\"given\":[\"Litta\"],\"family\":\"Durrwachter\"}],\"birthDate\":\"1936-02-07\",\"resourceType\":\"Patient\",\"id\":\"C7E64KWQ6FOK7VJ3\",\"gender\":\"male\"},\"search\":{\"mode\":\"match\"}},{\"fullUrl\":\"http://localhost:8080/fhir/Patient/C7E64KWQ6FOK7VJ4\",\"resource\":{\"meta\":{\"versionId\":\"27\",\"lastUpdated\":\"2021-10-20T18:07:08.130Z\"},\"name\":[{\"given\":[\"Jazmen\"],\"family\":\"Tsukamoto\"}],\"birthDate\":\"1964-09-18\",\"resourceType\":\"Patient\",\"id\":\"C7E64KWQ6FOK7VJ4\",\"gender\":\"male\"},\"search\":{\"mode\":\"match\"}},{\"fullUrl\":\"http://localhost:8080/fhir/Patient/C7E64KWQ6FOK7VJ5\",\"resource\":{\"meta\":{\"versionId\":\"27\",\"lastUpdated\":\"2021-10-20T18:07:08.130Z\"},\"name\":[{\"given\":[\"Rayonia\"],\"family\":\"Kudlacik\"}],\"birthDate\":\"1999-05-13\",\"resourceType\":\"Patient\",\"id\":\"C7E64KWQ6FOK7VJ5\",\"gender\":\"male\"},\"search\":{\"mode\":\"match\"}},{\"fullUrl\":\"http://localhost:8080/fhir/Patient/C7E64KWQ6FOK7VJ6\",\"resource\":{\"meta\":{\"versionId\":\"27\",\"lastUpdated\":\"2021-10-20T18:07:08.130Z\"},\"name\":[{\"given\":[\"Palvit\"],\"family\":\"Furrow\"}],\"birthDate\":\"2002-10-26\",\"resourceType\":\"Patient\",\"id\":\"C7E64KWQ6FOK7VJ6\",\"gender\":\"male\"},\"search\":{\"mode\":\"match\"}},{\"fullUrl\":\"http://localhost:8080/fhir/Patient/C7E64KWQ6FOK7VJ7\",\"resource\":{\"meta\":{\"versionId\":\"27\",\"lastUpdated\":\"2021-10-20T18:07:08.130Z\"},\"name\":[{\"given\":[\"Darry\"],\"family\":\"Kelvin\"}],\"birthDate\":\"1983-03-31\",\"resourceType\":\"Patient\",\"id\":\"C7E64KWQ6FOK7VJ7\",\"gender\":\"male\"},\"search\":{\"mode\":\"match\"}},{\"fullUrl\":\"http://localhost:8080/fhir/Patient/C7E64KWQ6FOK7VJA\",\"resource\":{\"meta\":{\"versionId\":\"27\",\"lastUpdated\":\"2021-10-20T18:07:08.130Z\"},\"name\":[{\"given\":[\"Kelashi\"],\"family\":\"Lebaron\"}],\"birthDate\":\"1959-06-01\",\"resourceType\":\"Patient\",\"id\":\"C7E64KWQ6FOK7VJA\",\"gender\":\"male\"},\"search\":{\"mode\":\"match\"}},{\"fullUrl\":\"http://localhost:8080/fhir/Patient/C7E64KWQ6FOK7VJB\",\"resource\":{\"meta\":{\"versionId\":\"27\",\"lastUpdated\":\"2021-10-20T18:07:08.130Z\"},\"name\":[{\"given\":[\"Tamayia\"],\"family\":\"Heersink\"}],\"birthDate\":\"1946-12-22\",\"resourceType\":\"Patient\",\"id\":\"C7E64KWQ6FOK7VJB\",\"gender\":\"female\"},\"search\":{\"mode\":\"match\"}},{\"fullUrl\":\"http://localhost:8080/fhir/Patient/C7E64KWQ6FOK7VJC\",\"resource\":{\"meta\":{\"versionId\":\"27\",\"lastUpdated\":\"2021-10-20T18:07:08.130Z\"},\"name\":[{\"given\":[\"Perreault\"],\"family\":\"Quine\"}],\"birthDate\":\"1982-12-11\",\"resourceType\":\"Patient\",\"id\":\"C7E64KWQ6FOK7VJC\",\"gender\":\"male\"},\"search\":{\"mode\":\"match\"}},{\"fullUrl\":\"http://localhost:8080/fhir/Patient/C7E64KWQ6FOK7VJD\",\"resource\":{\"meta\":{\"versionId\":\"27\",\"lastUpdated\":\"2021-10-20T18:07:08.130Z\"},\"name\":[{\"given\":[\"Alonnie\"],\"family\":\"Craton\"}],\"birthDate\":\"1957-07-18\",\"resourceType\":\"Patient\",\"id\":\"C7E64KWQ6FOK7VJD\",\"gender\":\"female\"},\"search\":{\"mode\":\"match\"}},{\"fullUrl\":\"http://localhost:8080/fhir/Patient/C7E64KWQ6FOK7VJE\",\"resource\":{\"meta\":{\"versionId\":\"27\",\"lastUpdated\":\"2021-10-20T18:07:08.130Z\"},\"name\":[{\"given\":[\"Linde\"],\"family\":\"Dilallo\"}],\"birthDate\":\"1963-05-31\",\"resourceType\":\"Patient\",\"id\":\"C7E64KWQ6FOK7VJE\",\"gender\":\"male\"},\"search\":{\"mode\":\"match\"}},{\"fullUrl\":\"http://localhost:8080/fhir/Patient/C7E64KWQ6FOK7VJF\",\"resource\":{\"meta\":{\"versionId\":\"27\",\"lastUpdated\":\"2021-10-20T18:07:08.130Z\"},\"name\":[{\"given\":[\"Furiya\"],\"family\":\"Dolbeare\"}],\"birthDate\":\"1945-12-12\",\"resourceType\":\"Patient\",\"id\":\"C7E64KWQ6FOK7VJF\",\"gender\":\"male\"},\"search\":{\"mode\":\"match\"}},{\"fullUrl\":\"http://localhost:8080/fhir/Patient/C7E64KWQ6FOK7VJG\",\"resource\":{\"meta\":{\"versionId\":\"27\",\"lastUpdated\":\"2021-10-20T18:07:08.130Z\"},\"name\":[{\"given\":[\"Crayson\"],\"family\":\"Pattmon\"}],\"birthDate\":\"1933-11-28\",\"resourceType\":\"Patient\",\"id\":\"C7E64KWQ6FOK7VJG\",\"gender\":\"male\"},\"search\":{\"mode\":\"match\"}},{\"fullUrl\":\"http://localhost:8080/fhir/Patient/C7E64KWQ6FOK7VJH\",\"resource\":{\"meta\":{\"versionId\":\"27\",\"lastUpdated\":\"2021-10-20T18:07:08.130Z\"},\"name\":[{\"given\":[\"Ellarose\"],\"family\":\"Carnighan\"}],\"birthDate\":\"1956-12-27\",\"resourceType\":\"Patient\",\"id\":\"C7E64KWQ6FOK7VJH\",\"gender\":\"male\"},\"search\":{\"mode\":\"match\"}},{\"fullUrl\":\"http://localhost:8080/fhir/Patient/C7E64KWQ6FOK7VJI\",\"resource\":{\"meta\":{\"versionId\":\"27\",\"lastUpdated\":\"2021-10-20T18:07:08.130Z\"},\"name\":[{\"given\":[\"Jonette\"],\"family\":\"Whelihan\"}],\"birthDate\":\"1930-03-05\",\"resourceType\":\"Patient\",\"id\":\"C7E64KWQ6FOK7VJI\",\"gender\":\"female\"},\"search\":{\"mode\":\"match\"}},{\"fullUrl\":\"http://localhost:8080/fhir/Patient/C7E64KWQ6FOK7VJJ\",\"resource\":{\"meta\":{\"versionId\":\"27\",\"lastUpdated\":\"2021-10-20T18:07:08.130Z\"},\"name\":[{\"given\":[\"Zayn-ul-abidin\"],\"family\":\"Petropulos\"}],\"birthDate\":\"1930-10-28\",\"resourceType\":\"Patient\",\"id\":\"C7E64KWQ6FOK7VJJ\",\"gender\":\"male\"},\"search\":{\"mode\":\"match\"}},{\"fullUrl\":\"http://localhost:8080/fhir/Patient/C7E64KWQ6FOK7VJK\",\"resource\":{\"meta\":{\"versionId\":\"27\",\"lastUpdated\":\"2021-10-20T18:07:08.130Z\"},\"name\":[{\"given\":[\"Kratsas\"],\"family\":\"Ducci\"}],\"birthDate\":\"1987-10-05\",\"resourceType\":\"Patient\",\"id\":\"C7E64KWQ6FOK7VJK\",\"gender\":\"male\"},\"search\":{\"mode\":\"match\"}}],\"link\":[{\"relation\":\"self\",\"url\":\"http://localhost:8080/fhir/Patient?_count=50&__t=49&__page-id=C7E64KWQ6FOK7VH7\"},{\"relation\":\"next\",\"url\":\"http://localhost:8080/fhir/Patient?_count=50&__t=49&__page-id=C7E64KWQ6FOK7VJL\"}],\"total\":2283,\"resourceType\":\"Bundle\"}\n"
     ]
    }
   ],
   "source": [
    "resp = server.raw_query(\"/Patient?\", output_format=\"xml\")\n",
    "print(resp.all())"
   ],
   "metadata": {
    "collapsed": false,
    "pycharm": {
     "name": "#%%\n"
    }
   }
  },
  {
   "cell_type": "code",
   "execution_count": 12,
   "outputs": [
    {
     "ename": "AttributeError",
     "evalue": "'Patient' object has no attribute 'xml'",
     "output_type": "error",
     "traceback": [
      "\u001B[1;31m---------------------------------------------------------------------------\u001B[0m",
      "\u001B[1;31mAttributeError\u001B[0m                            Traceback (most recent call last)",
      "\u001B[1;32m~\\AppData\\Local\\Temp/ipykernel_11488/2054985235.py\u001B[0m in \u001B[0;36m<module>\u001B[1;34m\u001B[0m\n\u001B[0;32m      3\u001B[0m \u001B[0mpatient_obj\u001B[0m \u001B[1;33m=\u001B[0m \u001B[0mPatient\u001B[0m\u001B[1;33m(\u001B[0m\u001B[1;33m**\u001B[0m\u001B[0mdata\u001B[0m\u001B[1;33m)\u001B[0m\u001B[1;33m\u001B[0m\u001B[1;33m\u001B[0m\u001B[0m\n\u001B[0;32m      4\u001B[0m \u001B[1;33m\u001B[0m\u001B[0m\n\u001B[1;32m----> 5\u001B[1;33m \u001B[0mpatient_obj\u001B[0m\u001B[1;33m.\u001B[0m\u001B[0mxml\u001B[0m\u001B[1;33m(\u001B[0m\u001B[0mpretty_print\u001B[0m\u001B[1;33m=\u001B[0m\u001B[1;32mTrue\u001B[0m\u001B[1;33m)\u001B[0m\u001B[1;33m\u001B[0m\u001B[1;33m\u001B[0m\u001B[0m\n\u001B[0m\u001B[0;32m      6\u001B[0m \u001B[1;33m\u001B[0m\u001B[0m\n",
      "\u001B[1;31mAttributeError\u001B[0m: 'Patient' object has no attribute 'xml'"
     ]
    }
   ],
   "source": [
    "from fhir.resources.patient import Patient\n",
    "data = {\"active\": True, \"gender\": \"male\", \"birthDate\": \"2000-09-18\", \"name\": [{\"text\": \"Primal Kons\"}]}\n",
    "patient_obj = Patient(**data)\n",
    "\n",
    "patient_obj.xml(pretty_print=True)"
   ],
   "metadata": {
    "collapsed": false,
    "pycharm": {
     "name": "#%%\n"
    }
   }
  },
  {
   "cell_type": "markdown",
   "source": [
    "## Cord FHIR resource generation based on csv\n",
    "\n"
   ],
   "metadata": {
    "collapsed": false
   }
  },
  {
   "cell_type": "code",
   "execution_count": 3,
   "outputs": [],
   "source": [
    "cord_test_data = pd.read_csv(\"./cord/A2-1.csv\")\n"
   ],
   "metadata": {
    "collapsed": false,
    "pycharm": {
     "name": "#%%\n"
    }
   }
  },
  {
   "cell_type": "markdown",
   "source": [
    "### Setup fhir server connections"
   ],
   "metadata": {
    "collapsed": false
   }
  },
  {
   "cell_type": "code",
   "execution_count": 4,
   "outputs": [
    {
     "name": "stdout",
     "output_type": "stream",
     "text": [
      "Requesting new token\n",
      "Requesting new token\n",
      "Requesting new token\n"
     ]
    }
   ],
   "source": [
    "load_dotenv(find_dotenv())\n",
    "\n",
    "server_1_address = \"http://193.196.20.24:9001/fhir\"\n",
    "server_2_address = \"http://193.196.20.24:9002/fhir\"\n",
    "server_3_address = \"http://193.196.20.24:9003/fhir\"\n",
    "\n",
    "client_id = os.getenv(\"CLIENT_ID\")\n",
    "client_secret = os.getenv(\"CLIENT_SECRET\")\n",
    "provider_url = os.getenv(\"OIDC_PROVIDER_URL\")\n",
    "\n",
    "server_1 = FhirServer(api_address=server_1_address, client_id=client_id, client_secret=client_secret,\n",
    "                      oidc_provider_url=provider_url)\n",
    "server_2 = FhirServer(api_address=server_2_address, client_id=client_id, client_secret=client_secret,\n",
    "                      oidc_provider_url=provider_url)\n",
    "server_3 = FhirServer(api_address=server_3_address, client_id=client_id, client_secret=client_secret,\n",
    "                      oidc_provider_url=provider_url)"
   ],
   "metadata": {
    "collapsed": false,
    "pycharm": {
     "name": "#%%\n"
    }
   }
  },
  {
   "cell_type": "markdown",
   "source": [
    "### Create Condition resources based on csv file"
   ],
   "metadata": {
    "collapsed": false
   }
  },
  {
   "cell_type": "code",
   "execution_count": 5,
   "outputs": [],
   "source": [
    "code_system = \"http://hl7.org/fhir/sid/icd-10\"\n",
    "\n",
    "def make_condition_resource(row):\n",
    "    condition = Condition.construct()\n",
    "    condition.clinicalStatus = CodeableConcept(\n",
    "        coding=[Coding(\n",
    "            **{\n",
    "                \"system\": \"http://hl7.org/fhir/condition-clinical\",\n",
    "                \"code\": \"active\",\n",
    "                \"display\": \"Active\"\n",
    "            }\n",
    "        )]\n",
    "    )\n",
    "\n",
    "    condition.code = CodeableConcept(\n",
    "        coding=[Coding(\n",
    "            **{\n",
    "                \"system\": code_system,\n",
    "                \"code\": row[\"AngabeDiag1\"],\n",
    "                \"display\": row[\"TextDiagnose1\"],\n",
    "            }\n",
    "        ).dict()]\n",
    "    )\n",
    "    return condition\n",
    "\n",
    "cord_test_data[\"condition_resource\"] = cord_test_data.apply(make_condition_resource, axis=1)\n",
    "\n",
    "condition_resource_list = list(cord_test_data[\"condition_resource\"])"
   ],
   "metadata": {
    "collapsed": false,
    "pycharm": {
     "name": "#%%\n"
    }
   }
  },
  {
   "cell_type": "markdown",
   "source": [
    "### Distribute csv entries between stations"
   ],
   "metadata": {
    "collapsed": false
   }
  },
  {
   "cell_type": "code",
   "execution_count": 6,
   "outputs": [
    {
     "data": {
      "text/plain": "228"
     },
     "execution_count": 6,
     "metadata": {},
     "output_type": "execute_result"
    }
   ],
   "source": [
    "patients_per_station = int(len(cord_test_data) / 3)\n",
    "patients_per_station\n"
   ],
   "metadata": {
    "collapsed": false,
    "pycharm": {
     "name": "#%%\n"
    }
   }
  },
  {
   "cell_type": "markdown",
   "source": [
    "### Station 1\n",
    "generate patients and assign a third of the csv resources to these patients"
   ],
   "metadata": {
    "collapsed": false
   }
  },
  {
   "cell_type": "code",
   "execution_count": 7,
   "outputs": [
    {
     "name": "stderr",
     "output_type": "stream",
     "text": [
      "Generating 228 patients: 100%|██████████| 228/228 [00:00<00:00, 1266.68it/s]\n"
     ]
    }
   ],
   "source": [
    "patient_generator = PatientGenerator(n=patients_per_station)\n",
    "patient_generator.generate()\n",
    "patient_bundle = patient_generator.make_bundle()"
   ],
   "metadata": {
    "collapsed": false,
    "pycharm": {
     "name": "#%%\n"
    }
   }
  },
  {
   "cell_type": "code",
   "execution_count": 8,
   "outputs": [],
   "source": [
    "patients_create_response_1 = server_1.add_bundle(patient_bundle)"
   ],
   "metadata": {
    "collapsed": false,
    "pycharm": {
     "name": "#%%\n"
    }
   }
  },
  {
   "cell_type": "markdown",
   "source": [
    "### Assign a third of the resource to the generated patients"
   ],
   "metadata": {
    "collapsed": false,
    "pycharm": {
     "name": "#%% md\n"
    }
   }
  },
  {
   "cell_type": "code",
   "execution_count": 9,
   "outputs": [],
   "source": [
    "server_1_conditions = condition_resource_list[:patients_per_station]\n",
    "\n",
    "references = patients_create_response_1.references\n",
    "for i, condition in enumerate(server_1_conditions):\n",
    "    # set the subject reference\n",
    "    condition.subject = references[i]"
   ],
   "metadata": {
    "collapsed": false,
    "pycharm": {
     "name": "#%%\n"
    }
   }
  },
  {
   "cell_type": "code",
   "execution_count": 10,
   "outputs": [],
   "source": [
    "response = server_1.add_all(server_1_conditions)\n"
   ],
   "metadata": {
    "collapsed": false,
    "pycharm": {
     "name": "#%%\n"
    }
   }
  },
  {
   "cell_type": "markdown",
   "source": [
    "### Station 2"
   ],
   "metadata": {
    "collapsed": false
   }
  },
  {
   "cell_type": "code",
   "execution_count": 17,
   "outputs": [
    {
     "name": "stderr",
     "output_type": "stream",
     "text": [
      "Generating 228 patients: 100%|██████████| 228/228 [00:00<00:00, 1157.35it/s]"
     ]
    },
    {
     "name": "stdout",
     "output_type": "stream",
     "text": [
      "228\n"
     ]
    },
    {
     "name": "stderr",
     "output_type": "stream",
     "text": [
      "\n"
     ]
    }
   ],
   "source": [
    "patient_generator = PatientGenerator(n=patients_per_station)\n",
    "patient_generator.generate()\n",
    "patient_bundle = patient_generator.make_bundle()\n",
    "\n",
    "print(len(patient_bundle.entry))"
   ],
   "metadata": {
    "collapsed": false,
    "pycharm": {
     "name": "#%%\n"
    }
   }
  },
  {
   "cell_type": "code",
   "execution_count": 12,
   "outputs": [],
   "source": [
    "patients_create_response_2 = server_2.add_bundle(patient_bundle)"
   ],
   "metadata": {
    "collapsed": false,
    "pycharm": {
     "name": "#%%\n"
    }
   }
  },
  {
   "cell_type": "code",
   "execution_count": 19,
   "outputs": [
    {
     "name": "stdout",
     "output_type": "stream",
     "text": [
      "684\n"
     ]
    },
    {
     "ename": "HTTPError",
     "evalue": "404 Client Error: Not Found for url: http://193.196.20.24:9002/fhir/Patient/C7FCA6G2ELOUOEGY",
     "output_type": "error",
     "traceback": [
      "\u001B[1;31m---------------------------------------------------------------------------\u001B[0m",
      "\u001B[1;31mHTTPError\u001B[0m                                 Traceback (most recent call last)",
      "\u001B[1;32m~\\AppData\\Local\\Temp/ipykernel_19452/583187768.py\u001B[0m in \u001B[0;36m<module>\u001B[1;34m\u001B[0m\n\u001B[0;32m      3\u001B[0m \u001B[1;32mfor\u001B[0m \u001B[0mref\u001B[0m \u001B[1;32min\u001B[0m \u001B[0mpatients_create_response_2\u001B[0m\u001B[1;33m.\u001B[0m\u001B[0mreferences\u001B[0m\u001B[1;33m:\u001B[0m\u001B[1;33m\u001B[0m\u001B[1;33m\u001B[0m\u001B[0m\n\u001B[0;32m      4\u001B[0m     \u001B[0mq\u001B[0m \u001B[1;33m=\u001B[0m \u001B[0mserver_2\u001B[0m\u001B[1;33m.\u001B[0m\u001B[0mraw_query\u001B[0m\u001B[1;33m(\u001B[0m\u001B[1;34m\"/\"\u001B[0m \u001B[1;33m+\u001B[0m \u001B[0mref\u001B[0m\u001B[1;33m.\u001B[0m\u001B[0mreference\u001B[0m\u001B[1;33m)\u001B[0m\u001B[1;33m\u001B[0m\u001B[1;33m\u001B[0m\u001B[0m\n\u001B[1;32m----> 5\u001B[1;33m     \u001B[0mq\u001B[0m\u001B[1;33m.\u001B[0m\u001B[0mall\u001B[0m\u001B[1;33m(\u001B[0m\u001B[1;33m)\u001B[0m\u001B[1;33m\u001B[0m\u001B[1;33m\u001B[0m\u001B[0m\n\u001B[0m\u001B[0;32m      6\u001B[0m \u001B[1;33m\u001B[0m\u001B[0m\n\u001B[0;32m      7\u001B[0m \u001B[1;33m\u001B[0m\u001B[0m\n",
      "\u001B[1;32m~\\tbi\\fhir\\fhir_kindling\\fhir_kindling\\fhir_query\\fhir_query.py\u001B[0m in \u001B[0;36mall\u001B[1;34m(self)\u001B[0m\n\u001B[0;32m    111\u001B[0m         \u001B[0mself\u001B[0m\u001B[1;33m.\u001B[0m\u001B[0m_limit\u001B[0m \u001B[1;33m=\u001B[0m \u001B[1;32mNone\u001B[0m\u001B[1;33m\u001B[0m\u001B[1;33m\u001B[0m\u001B[0m\n\u001B[0;32m    112\u001B[0m         \u001B[1;31m# todo execute the pre built query string and return all resources that match the query\u001B[0m\u001B[1;33m\u001B[0m\u001B[1;33m\u001B[0m\u001B[1;33m\u001B[0m\u001B[0m\n\u001B[1;32m--> 113\u001B[1;33m         \u001B[0mresults\u001B[0m \u001B[1;33m=\u001B[0m \u001B[0mself\u001B[0m\u001B[1;33m.\u001B[0m\u001B[0m_execute_query\u001B[0m\u001B[1;33m(\u001B[0m\u001B[1;33m)\u001B[0m\u001B[1;33m\u001B[0m\u001B[1;33m\u001B[0m\u001B[0m\n\u001B[0m\u001B[0;32m    114\u001B[0m         \u001B[1;32mreturn\u001B[0m \u001B[0mresults\u001B[0m\u001B[1;33m\u001B[0m\u001B[1;33m\u001B[0m\u001B[0m\n\u001B[0;32m    115\u001B[0m \u001B[1;33m\u001B[0m\u001B[0m\n",
      "\u001B[1;32m~\\tbi\\fhir\\fhir_kindling\\fhir_kindling\\fhir_query\\fhir_query.py\u001B[0m in \u001B[0;36m_execute_query\u001B[1;34m(self)\u001B[0m\n\u001B[0;32m    133\u001B[0m     \u001B[1;32mdef\u001B[0m \u001B[0m_execute_query\u001B[0m\u001B[1;33m(\u001B[0m\u001B[0mself\u001B[0m\u001B[1;33m)\u001B[0m\u001B[1;33m:\u001B[0m\u001B[1;33m\u001B[0m\u001B[1;33m\u001B[0m\u001B[0m\n\u001B[0;32m    134\u001B[0m         \u001B[0mr\u001B[0m \u001B[1;33m=\u001B[0m \u001B[0mself\u001B[0m\u001B[1;33m.\u001B[0m\u001B[0msession\u001B[0m\u001B[1;33m.\u001B[0m\u001B[0mget\u001B[0m\u001B[1;33m(\u001B[0m\u001B[0mself\u001B[0m\u001B[1;33m.\u001B[0m\u001B[0mquery_url\u001B[0m\u001B[1;33m)\u001B[0m\u001B[1;33m\u001B[0m\u001B[1;33m\u001B[0m\u001B[0m\n\u001B[1;32m--> 135\u001B[1;33m         \u001B[0mr\u001B[0m\u001B[1;33m.\u001B[0m\u001B[0mraise_for_status\u001B[0m\u001B[1;33m(\u001B[0m\u001B[1;33m)\u001B[0m\u001B[1;33m\u001B[0m\u001B[1;33m\u001B[0m\u001B[0m\n\u001B[0m\u001B[0;32m    136\u001B[0m         \u001B[0mlink\u001B[0m \u001B[1;33m=\u001B[0m \u001B[0mr\u001B[0m\u001B[1;33m.\u001B[0m\u001B[0mjson\u001B[0m\u001B[1;33m(\u001B[0m\u001B[1;33m)\u001B[0m\u001B[1;33m.\u001B[0m\u001B[0mget\u001B[0m\u001B[1;33m(\u001B[0m\u001B[1;34m\"link\"\u001B[0m\u001B[1;33m,\u001B[0m \u001B[1;32mNone\u001B[0m\u001B[1;33m)\u001B[0m\u001B[1;33m\u001B[0m\u001B[1;33m\u001B[0m\u001B[0m\n\u001B[0;32m    137\u001B[0m         \u001B[1;32mif\u001B[0m \u001B[0mlink\u001B[0m\u001B[1;33m:\u001B[0m\u001B[1;33m\u001B[0m\u001B[1;33m\u001B[0m\u001B[0m\n",
      "\u001B[1;32mc:\\users\\micha\\tbi\\fhir\\fhir_kindling\\venv\\lib\\site-packages\\requests\\models.py\u001B[0m in \u001B[0;36mraise_for_status\u001B[1;34m(self)\u001B[0m\n\u001B[0;32m    951\u001B[0m \u001B[1;33m\u001B[0m\u001B[0m\n\u001B[0;32m    952\u001B[0m         \u001B[1;32mif\u001B[0m \u001B[0mhttp_error_msg\u001B[0m\u001B[1;33m:\u001B[0m\u001B[1;33m\u001B[0m\u001B[1;33m\u001B[0m\u001B[0m\n\u001B[1;32m--> 953\u001B[1;33m             \u001B[1;32mraise\u001B[0m \u001B[0mHTTPError\u001B[0m\u001B[1;33m(\u001B[0m\u001B[0mhttp_error_msg\u001B[0m\u001B[1;33m,\u001B[0m \u001B[0mresponse\u001B[0m\u001B[1;33m=\u001B[0m\u001B[0mself\u001B[0m\u001B[1;33m)\u001B[0m\u001B[1;33m\u001B[0m\u001B[1;33m\u001B[0m\u001B[0m\n\u001B[0m\u001B[0;32m    954\u001B[0m \u001B[1;33m\u001B[0m\u001B[0m\n\u001B[0;32m    955\u001B[0m     \u001B[1;32mdef\u001B[0m \u001B[0mclose\u001B[0m\u001B[1;33m(\u001B[0m\u001B[0mself\u001B[0m\u001B[1;33m)\u001B[0m\u001B[1;33m:\u001B[0m\u001B[1;33m\u001B[0m\u001B[1;33m\u001B[0m\u001B[0m\n",
      "\u001B[1;31mHTTPError\u001B[0m: 404 Client Error: Not Found for url: http://193.196.20.24:9002/fhir/Patient/C7FCA6G2ELOUOEGY"
     ]
    }
   ],
   "source": [
    "# check that all exist\n",
    "print(len(patients_create_response_2.references))\n",
    "for ref in patients_create_response_2.references:\n",
    "    q = server_2.raw_query(\"/\" + ref.reference)\n",
    "    q.all()\n"
   ],
   "metadata": {
    "collapsed": false,
    "pycharm": {
     "name": "#%%\n"
    }
   }
  },
  {
   "cell_type": "code",
   "execution_count": 15,
   "outputs": [],
   "source": [
    "# second third of the resources defined in the csv\n",
    "server_2_conditions = condition_resource_list[patients_per_station:2*patients_per_station]\n",
    "\n",
    "references = patients_create_response_2.references\n",
    "for i, condition in enumerate(server_2_conditions):\n",
    "    # set the subject reference\n",
    "    condition.subject = references[i]\n",
    "\n"
   ],
   "metadata": {
    "collapsed": false,
    "pycharm": {
     "name": "#%%\n"
    }
   }
  },
  {
   "cell_type": "code",
   "execution_count": 14,
   "outputs": [
    {
     "ename": "HTTPError",
     "evalue": "409 Client Error: Conflict for url: http://193.196.20.24:9002/fhir",
     "output_type": "error",
     "traceback": [
      "\u001B[1;31m---------------------------------------------------------------------------\u001B[0m",
      "\u001B[1;31mHTTPError\u001B[0m                                 Traceback (most recent call last)",
      "\u001B[1;32m~\\AppData\\Local\\Temp/ipykernel_19452/2159682940.py\u001B[0m in \u001B[0;36m<module>\u001B[1;34m\u001B[0m\n\u001B[1;32m----> 1\u001B[1;33m \u001B[0mresponse\u001B[0m \u001B[1;33m=\u001B[0m \u001B[0mserver_2\u001B[0m\u001B[1;33m.\u001B[0m\u001B[0madd_all\u001B[0m\u001B[1;33m(\u001B[0m\u001B[0mserver_2_conditions\u001B[0m\u001B[1;33m)\u001B[0m\u001B[1;33m\u001B[0m\u001B[1;33m\u001B[0m\u001B[0m\n\u001B[0m\u001B[0;32m      2\u001B[0m \u001B[1;33m\u001B[0m\u001B[0m\n",
      "\u001B[1;32m~\\tbi\\fhir\\fhir_kindling\\fhir_kindling\\fhir_server\\fhir_server.py\u001B[0m in \u001B[0;36madd_all\u001B[1;34m(self, resources)\u001B[0m\n\u001B[0;32m    106\u001B[0m     \u001B[1;32mdef\u001B[0m \u001B[0madd_all\u001B[0m\u001B[1;33m(\u001B[0m\u001B[0mself\u001B[0m\u001B[1;33m,\u001B[0m \u001B[0mresources\u001B[0m\u001B[1;33m:\u001B[0m \u001B[0mList\u001B[0m\u001B[1;33m[\u001B[0m\u001B[0mUnion\u001B[0m\u001B[1;33m[\u001B[0m\u001B[0mResource\u001B[0m\u001B[1;33m,\u001B[0m \u001B[0mdict\u001B[0m\u001B[1;33m]\u001B[0m\u001B[1;33m]\u001B[0m\u001B[1;33m)\u001B[0m\u001B[1;33m:\u001B[0m\u001B[1;33m\u001B[0m\u001B[1;33m\u001B[0m\u001B[0m\n\u001B[0;32m    107\u001B[0m         \u001B[0mbundle\u001B[0m \u001B[1;33m=\u001B[0m \u001B[0mself\u001B[0m\u001B[1;33m.\u001B[0m\u001B[0m_make_bundle_from_resource_list\u001B[0m\u001B[1;33m(\u001B[0m\u001B[0mresources\u001B[0m\u001B[1;33m)\u001B[0m\u001B[1;33m\u001B[0m\u001B[1;33m\u001B[0m\u001B[0m\n\u001B[1;32m--> 108\u001B[1;33m         \u001B[0mresponse\u001B[0m \u001B[1;33m=\u001B[0m \u001B[0mself\u001B[0m\u001B[1;33m.\u001B[0m\u001B[0m_upload_bundle\u001B[0m\u001B[1;33m(\u001B[0m\u001B[0mbundle\u001B[0m\u001B[1;33m)\u001B[0m\u001B[1;33m\u001B[0m\u001B[1;33m\u001B[0m\u001B[0m\n\u001B[0m\u001B[0;32m    109\u001B[0m         \u001B[1;32mreturn\u001B[0m \u001B[0mresponse\u001B[0m\u001B[1;33m\u001B[0m\u001B[1;33m\u001B[0m\u001B[0m\n\u001B[0;32m    110\u001B[0m \u001B[1;33m\u001B[0m\u001B[0m\n",
      "\u001B[1;32m~\\tbi\\fhir\\fhir_kindling\\fhir_kindling\\fhir_server\\fhir_server.py\u001B[0m in \u001B[0;36m_upload_bundle\u001B[1;34m(self, bundle)\u001B[0m\n\u001B[0;32m    165\u001B[0m     \u001B[1;32mdef\u001B[0m \u001B[0m_upload_bundle\u001B[0m\u001B[1;33m(\u001B[0m\u001B[0mself\u001B[0m\u001B[1;33m,\u001B[0m \u001B[0mbundle\u001B[0m\u001B[1;33m:\u001B[0m \u001B[0mBundle\u001B[0m\u001B[1;33m)\u001B[0m \u001B[1;33m->\u001B[0m \u001B[0mBundleCreateResponse\u001B[0m\u001B[1;33m:\u001B[0m\u001B[1;33m\u001B[0m\u001B[1;33m\u001B[0m\u001B[0m\n\u001B[0;32m    166\u001B[0m         \u001B[0mr\u001B[0m \u001B[1;33m=\u001B[0m \u001B[0mself\u001B[0m\u001B[1;33m.\u001B[0m\u001B[0msession\u001B[0m\u001B[1;33m.\u001B[0m\u001B[0mpost\u001B[0m\u001B[1;33m(\u001B[0m\u001B[0mself\u001B[0m\u001B[1;33m.\u001B[0m\u001B[0mapi_address\u001B[0m\u001B[1;33m,\u001B[0m \u001B[0mdata\u001B[0m\u001B[1;33m=\u001B[0m\u001B[0mbundle\u001B[0m\u001B[1;33m.\u001B[0m\u001B[0mjson\u001B[0m\u001B[1;33m(\u001B[0m\u001B[0mreturn_bytes\u001B[0m\u001B[1;33m=\u001B[0m\u001B[1;32mTrue\u001B[0m\u001B[1;33m)\u001B[0m\u001B[1;33m)\u001B[0m\u001B[1;33m\u001B[0m\u001B[1;33m\u001B[0m\u001B[0m\n\u001B[1;32m--> 167\u001B[1;33m         \u001B[0mr\u001B[0m\u001B[1;33m.\u001B[0m\u001B[0mraise_for_status\u001B[0m\u001B[1;33m(\u001B[0m\u001B[1;33m)\u001B[0m\u001B[1;33m\u001B[0m\u001B[1;33m\u001B[0m\u001B[0m\n\u001B[0m\u001B[0;32m    168\u001B[0m \u001B[1;33m\u001B[0m\u001B[0m\n\u001B[0;32m    169\u001B[0m         \u001B[0mbundle_response\u001B[0m \u001B[1;33m=\u001B[0m \u001B[0mBundleCreateResponse\u001B[0m\u001B[1;33m(\u001B[0m\u001B[0mr\u001B[0m\u001B[1;33m,\u001B[0m \u001B[0mbundle\u001B[0m\u001B[1;33m)\u001B[0m\u001B[1;33m\u001B[0m\u001B[1;33m\u001B[0m\u001B[0m\n",
      "\u001B[1;32mc:\\users\\micha\\tbi\\fhir\\fhir_kindling\\venv\\lib\\site-packages\\requests\\models.py\u001B[0m in \u001B[0;36mraise_for_status\u001B[1;34m(self)\u001B[0m\n\u001B[0;32m    951\u001B[0m \u001B[1;33m\u001B[0m\u001B[0m\n\u001B[0;32m    952\u001B[0m         \u001B[1;32mif\u001B[0m \u001B[0mhttp_error_msg\u001B[0m\u001B[1;33m:\u001B[0m\u001B[1;33m\u001B[0m\u001B[1;33m\u001B[0m\u001B[0m\n\u001B[1;32m--> 953\u001B[1;33m             \u001B[1;32mraise\u001B[0m \u001B[0mHTTPError\u001B[0m\u001B[1;33m(\u001B[0m\u001B[0mhttp_error_msg\u001B[0m\u001B[1;33m,\u001B[0m \u001B[0mresponse\u001B[0m\u001B[1;33m=\u001B[0m\u001B[0mself\u001B[0m\u001B[1;33m)\u001B[0m\u001B[1;33m\u001B[0m\u001B[1;33m\u001B[0m\u001B[0m\n\u001B[0m\u001B[0;32m    954\u001B[0m \u001B[1;33m\u001B[0m\u001B[0m\n\u001B[0;32m    955\u001B[0m     \u001B[1;32mdef\u001B[0m \u001B[0mclose\u001B[0m\u001B[1;33m(\u001B[0m\u001B[0mself\u001B[0m\u001B[1;33m)\u001B[0m\u001B[1;33m:\u001B[0m\u001B[1;33m\u001B[0m\u001B[1;33m\u001B[0m\u001B[0m\n",
      "\u001B[1;31mHTTPError\u001B[0m: 409 Client Error: Conflict for url: http://193.196.20.24:9002/fhir"
     ]
    }
   ],
   "source": [
    "response = server_2.add_all(server_2_conditions)"
   ],
   "metadata": {
    "collapsed": false,
    "pycharm": {
     "name": "#%%\n"
    }
   }
  },
  {
   "cell_type": "markdown",
   "source": [
    "### Station 3"
   ],
   "metadata": {
    "collapsed": false
   }
  },
  {
   "cell_type": "code",
   "execution_count": 31,
   "outputs": [
    {
     "name": "stderr",
     "output_type": "stream",
     "text": [
      "Generating 228 patients: 100%|██████████| 228/228 [00:00<00:00, 17534.59it/s]"
     ]
    },
    {
     "name": "stdout",
     "output_type": "stream",
     "text": [
      "228\n"
     ]
    },
    {
     "name": "stderr",
     "output_type": "stream",
     "text": [
      "\n"
     ]
    }
   ],
   "source": [
    "patient_generator = PatientGenerator(n=patients_per_station)\n",
    "patient_generator.generate()\n",
    "patient_bundle = patient_generator.make_bundle()"
   ],
   "metadata": {
    "collapsed": false,
    "pycharm": {
     "name": "#%%\n"
    }
   }
  },
  {
   "cell_type": "code",
   "execution_count": 28,
   "outputs": [
    {
     "name": "stdout",
     "output_type": "stream",
     "text": [
      "1824\n"
     ]
    }
   ],
   "source": [
    "patients_create_response_3 = server_3.add_bundle(patient_bundle)\n",
    "print(len(patients_create_response_3.references))"
   ],
   "metadata": {
    "collapsed": false,
    "pycharm": {
     "name": "#%%\n"
    }
   }
  },
  {
   "cell_type": "code",
   "execution_count": 24,
   "outputs": [
    {
     "name": "stdout",
     "output_type": "stream",
     "text": [
      "Patient/C7FBP52CEH2XZPYF\n"
     ]
    },
    {
     "ename": "HTTPError",
     "evalue": "404 Client Error: Not Found for url: http://193.196.20.24:9003/fhir/Patient/C7FBP52CEH2XZPYF",
     "output_type": "error",
     "traceback": [
      "\u001B[1;31m---------------------------------------------------------------------------\u001B[0m",
      "\u001B[1;31mHTTPError\u001B[0m                                 Traceback (most recent call last)",
      "\u001B[1;32m~\\AppData\\Local\\Temp/ipykernel_12492/37958845.py\u001B[0m in \u001B[0;36m<module>\u001B[1;34m\u001B[0m\n\u001B[0;32m      3\u001B[0m     \u001B[0mprint\u001B[0m\u001B[1;33m(\u001B[0m\u001B[0mref\u001B[0m\u001B[1;33m.\u001B[0m\u001B[0mreference\u001B[0m\u001B[1;33m)\u001B[0m\u001B[1;33m\u001B[0m\u001B[1;33m\u001B[0m\u001B[0m\n\u001B[0;32m      4\u001B[0m     \u001B[0mq\u001B[0m \u001B[1;33m=\u001B[0m \u001B[0mserver_3\u001B[0m\u001B[1;33m.\u001B[0m\u001B[0mraw_query\u001B[0m\u001B[1;33m(\u001B[0m\u001B[1;34m\"/\"\u001B[0m \u001B[1;33m+\u001B[0m \u001B[0mref\u001B[0m\u001B[1;33m.\u001B[0m\u001B[0mreference\u001B[0m\u001B[1;33m)\u001B[0m\u001B[1;33m\u001B[0m\u001B[1;33m\u001B[0m\u001B[0m\n\u001B[1;32m----> 5\u001B[1;33m     \u001B[0mq\u001B[0m\u001B[1;33m.\u001B[0m\u001B[0mall\u001B[0m\u001B[1;33m(\u001B[0m\u001B[1;33m)\u001B[0m\u001B[1;33m\u001B[0m\u001B[1;33m\u001B[0m\u001B[0m\n\u001B[0m\u001B[0;32m      6\u001B[0m \u001B[1;33m\u001B[0m\u001B[0m\n\u001B[0;32m      7\u001B[0m \u001B[1;33m\u001B[0m\u001B[0m\n",
      "\u001B[1;32m~\\tbi\\fhir\\fhir_kindling\\fhir_kindling\\fhir_query\\fhir_query.py\u001B[0m in \u001B[0;36mall\u001B[1;34m(self)\u001B[0m\n\u001B[0;32m    111\u001B[0m         \u001B[0mself\u001B[0m\u001B[1;33m.\u001B[0m\u001B[0m_limit\u001B[0m \u001B[1;33m=\u001B[0m \u001B[1;32mNone\u001B[0m\u001B[1;33m\u001B[0m\u001B[1;33m\u001B[0m\u001B[0m\n\u001B[0;32m    112\u001B[0m         \u001B[1;31m# todo execute the pre built query string and return all resources that match the query\u001B[0m\u001B[1;33m\u001B[0m\u001B[1;33m\u001B[0m\u001B[1;33m\u001B[0m\u001B[0m\n\u001B[1;32m--> 113\u001B[1;33m         \u001B[0mresults\u001B[0m \u001B[1;33m=\u001B[0m \u001B[0mself\u001B[0m\u001B[1;33m.\u001B[0m\u001B[0m_execute_query\u001B[0m\u001B[1;33m(\u001B[0m\u001B[1;33m)\u001B[0m\u001B[1;33m\u001B[0m\u001B[1;33m\u001B[0m\u001B[0m\n\u001B[0m\u001B[0;32m    114\u001B[0m         \u001B[1;32mreturn\u001B[0m \u001B[0mresults\u001B[0m\u001B[1;33m\u001B[0m\u001B[1;33m\u001B[0m\u001B[0m\n\u001B[0;32m    115\u001B[0m \u001B[1;33m\u001B[0m\u001B[0m\n",
      "\u001B[1;32m~\\tbi\\fhir\\fhir_kindling\\fhir_kindling\\fhir_query\\fhir_query.py\u001B[0m in \u001B[0;36m_execute_query\u001B[1;34m(self)\u001B[0m\n\u001B[0;32m    133\u001B[0m     \u001B[1;32mdef\u001B[0m \u001B[0m_execute_query\u001B[0m\u001B[1;33m(\u001B[0m\u001B[0mself\u001B[0m\u001B[1;33m)\u001B[0m\u001B[1;33m:\u001B[0m\u001B[1;33m\u001B[0m\u001B[1;33m\u001B[0m\u001B[0m\n\u001B[0;32m    134\u001B[0m         \u001B[0mr\u001B[0m \u001B[1;33m=\u001B[0m \u001B[0mself\u001B[0m\u001B[1;33m.\u001B[0m\u001B[0msession\u001B[0m\u001B[1;33m.\u001B[0m\u001B[0mget\u001B[0m\u001B[1;33m(\u001B[0m\u001B[0mself\u001B[0m\u001B[1;33m.\u001B[0m\u001B[0mquery_url\u001B[0m\u001B[1;33m)\u001B[0m\u001B[1;33m\u001B[0m\u001B[1;33m\u001B[0m\u001B[0m\n\u001B[1;32m--> 135\u001B[1;33m         \u001B[0mr\u001B[0m\u001B[1;33m.\u001B[0m\u001B[0mraise_for_status\u001B[0m\u001B[1;33m(\u001B[0m\u001B[1;33m)\u001B[0m\u001B[1;33m\u001B[0m\u001B[1;33m\u001B[0m\u001B[0m\n\u001B[0m\u001B[0;32m    136\u001B[0m         \u001B[0mlink\u001B[0m \u001B[1;33m=\u001B[0m \u001B[0mr\u001B[0m\u001B[1;33m.\u001B[0m\u001B[0mjson\u001B[0m\u001B[1;33m(\u001B[0m\u001B[1;33m)\u001B[0m\u001B[1;33m.\u001B[0m\u001B[0mget\u001B[0m\u001B[1;33m(\u001B[0m\u001B[1;34m\"link\"\u001B[0m\u001B[1;33m,\u001B[0m \u001B[1;32mNone\u001B[0m\u001B[1;33m)\u001B[0m\u001B[1;33m\u001B[0m\u001B[1;33m\u001B[0m\u001B[0m\n\u001B[0;32m    137\u001B[0m         \u001B[1;32mif\u001B[0m \u001B[0mlink\u001B[0m\u001B[1;33m:\u001B[0m\u001B[1;33m\u001B[0m\u001B[1;33m\u001B[0m\u001B[0m\n",
      "\u001B[1;32mc:\\users\\micha\\tbi\\fhir\\fhir_kindling\\venv\\lib\\site-packages\\requests\\models.py\u001B[0m in \u001B[0;36mraise_for_status\u001B[1;34m(self)\u001B[0m\n\u001B[0;32m    951\u001B[0m \u001B[1;33m\u001B[0m\u001B[0m\n\u001B[0;32m    952\u001B[0m         \u001B[1;32mif\u001B[0m \u001B[0mhttp_error_msg\u001B[0m\u001B[1;33m:\u001B[0m\u001B[1;33m\u001B[0m\u001B[1;33m\u001B[0m\u001B[0m\n\u001B[1;32m--> 953\u001B[1;33m             \u001B[1;32mraise\u001B[0m \u001B[0mHTTPError\u001B[0m\u001B[1;33m(\u001B[0m\u001B[0mhttp_error_msg\u001B[0m\u001B[1;33m,\u001B[0m \u001B[0mresponse\u001B[0m\u001B[1;33m=\u001B[0m\u001B[0mself\u001B[0m\u001B[1;33m)\u001B[0m\u001B[1;33m\u001B[0m\u001B[1;33m\u001B[0m\u001B[0m\n\u001B[0m\u001B[0;32m    954\u001B[0m \u001B[1;33m\u001B[0m\u001B[0m\n\u001B[0;32m    955\u001B[0m     \u001B[1;32mdef\u001B[0m \u001B[0mclose\u001B[0m\u001B[1;33m(\u001B[0m\u001B[0mself\u001B[0m\u001B[1;33m)\u001B[0m\u001B[1;33m:\u001B[0m\u001B[1;33m\u001B[0m\u001B[1;33m\u001B[0m\u001B[0m\n",
      "\u001B[1;31mHTTPError\u001B[0m: 404 Client Error: Not Found for url: http://193.196.20.24:9003/fhir/Patient/C7FBP52CEH2XZPYF"
     ]
    }
   ],
   "source": [
    "# check that all exist\n",
    "for ref in patients_create_response_3.references:\n",
    "    print(ref.reference)\n",
    "    q = server_3.raw_query(\"/\" + ref.reference)\n",
    "    q.all()\n"
   ],
   "metadata": {
    "collapsed": false,
    "pycharm": {
     "name": "#%%\n"
    }
   }
  },
  {
   "cell_type": "code",
   "execution_count": null,
   "outputs": [],
   "source": [
    "# second third of the resources defined in the csv\n",
    "server_3_conditions = condition_resource_list[2*patients_per_station:]\n",
    "\n",
    "references = patients_create_response_3.references\n",
    "for i, condition in enumerate(server_3_conditions):\n",
    "    # set the subject reference\n",
    "    condition.subject = references[i]\n",
    "\n"
   ],
   "metadata": {
    "collapsed": false,
    "pycharm": {
     "name": "#%%\n"
    }
   }
  },
  {
   "cell_type": "code",
   "execution_count": null,
   "outputs": [],
   "source": [
    "response = server_3.add_all(server_3_conditions)\n",
    "\n"
   ],
   "metadata": {
    "collapsed": false,
    "pycharm": {
     "name": "#%%\n"
    }
   }
  },
  {
   "cell_type": "code",
   "execution_count": 45,
   "outputs": [
    {
     "name": "stdout",
     "output_type": "stream",
     "text": [
      "Requesting new token\n",
      "<class 'fhir.resources.patient.Patient'>\n"
     ]
    },
    {
     "ename": "MissingSchema",
     "evalue": "Invalid URL '/Patient/C7E67W3XOHARSS7L': No schema supplied. Perhaps you meant http:///Patient/C7E67W3XOHARSS7L?",
     "output_type": "error",
     "traceback": [
      "\u001B[1;31m---------------------------------------------------------------------------\u001B[0m",
      "\u001B[1;31mMissingSchema\u001B[0m                             Traceback (most recent call last)",
      "\u001B[1;32m~\\AppData\\Local\\Temp/ipykernel_1792/762399696.py\u001B[0m in \u001B[0;36m<module>\u001B[1;34m\u001B[0m\n\u001B[0;32m      8\u001B[0m \u001B[1;33m\u001B[0m\u001B[0m\n\u001B[0;32m      9\u001B[0m \u001B[0mquery\u001B[0m \u001B[1;33m=\u001B[0m \u001B[0mserver_1\u001B[0m\u001B[1;33m.\u001B[0m\u001B[0mraw_query\u001B[0m\u001B[1;33m(\u001B[0m\u001B[1;34m\"/Patient/C7E67W3XOHARSS7L\"\u001B[0m\u001B[1;33m)\u001B[0m\u001B[1;33m\u001B[0m\u001B[1;33m\u001B[0m\u001B[0m\n\u001B[1;32m---> 10\u001B[1;33m \u001B[0mquery\u001B[0m\u001B[1;33m.\u001B[0m\u001B[0mall\u001B[0m\u001B[1;33m(\u001B[0m\u001B[1;33m)\u001B[0m\u001B[1;33m\u001B[0m\u001B[1;33m\u001B[0m\u001B[0m\n\u001B[0m\u001B[0;32m     11\u001B[0m \u001B[1;33m\u001B[0m\u001B[0m\n",
      "\u001B[1;32m~\\tbi\\fhir\\fhir_kindling\\fhir_kindling\\fhir_query\\fhir_query.py\u001B[0m in \u001B[0;36mall\u001B[1;34m(self)\u001B[0m\n\u001B[0;32m    113\u001B[0m         \u001B[0mresults\u001B[0m \u001B[1;33m=\u001B[0m \u001B[0mself\u001B[0m\u001B[1;33m.\u001B[0m\u001B[0m_execute_query\u001B[0m\u001B[1;33m(\u001B[0m\u001B[1;33m)\u001B[0m\u001B[1;33m\u001B[0m\u001B[1;33m\u001B[0m\u001B[0m\n\u001B[0;32m    114\u001B[0m         \u001B[1;32mreturn\u001B[0m \u001B[0mresults\u001B[0m\u001B[1;33m\u001B[0m\u001B[1;33m\u001B[0m\u001B[0m\n\u001B[1;32m--> 115\u001B[1;33m \u001B[1;33m\u001B[0m\u001B[0m\n\u001B[0m\u001B[0;32m    116\u001B[0m     \u001B[1;32mdef\u001B[0m \u001B[0mlimit\u001B[0m\u001B[1;33m(\u001B[0m\u001B[0mself\u001B[0m\u001B[1;33m,\u001B[0m \u001B[0mn\u001B[0m\u001B[1;33m:\u001B[0m \u001B[0mint\u001B[0m\u001B[1;33m)\u001B[0m\u001B[1;33m:\u001B[0m\u001B[1;33m\u001B[0m\u001B[1;33m\u001B[0m\u001B[0m\n\u001B[0;32m    117\u001B[0m         \u001B[0mself\u001B[0m\u001B[1;33m.\u001B[0m\u001B[0m_limit\u001B[0m \u001B[1;33m=\u001B[0m \u001B[0mn\u001B[0m\u001B[1;33m\u001B[0m\u001B[1;33m\u001B[0m\u001B[0m\n",
      "\u001B[1;32m~\\tbi\\fhir\\fhir_kindling\\fhir_kindling\\fhir_query\\fhir_query.py\u001B[0m in \u001B[0;36m_execute_query\u001B[1;34m(self)\u001B[0m\n\u001B[0;32m    135\u001B[0m         \u001B[0mprint\u001B[0m\u001B[1;33m(\u001B[0m\u001B[0mself\u001B[0m\u001B[1;33m.\u001B[0m\u001B[0m_query_string\u001B[0m\u001B[1;33m)\u001B[0m\u001B[1;33m\u001B[0m\u001B[1;33m\u001B[0m\u001B[0m\n\u001B[0;32m    136\u001B[0m         \u001B[0mr\u001B[0m \u001B[1;33m=\u001B[0m \u001B[0mself\u001B[0m\u001B[1;33m.\u001B[0m\u001B[0msession\u001B[0m\u001B[1;33m.\u001B[0m\u001B[0mget\u001B[0m\u001B[1;33m(\u001B[0m\u001B[0mself\u001B[0m\u001B[1;33m.\u001B[0m\u001B[0m_query_string\u001B[0m\u001B[1;33m)\u001B[0m\u001B[1;33m\u001B[0m\u001B[1;33m\u001B[0m\u001B[0m\n\u001B[1;32m--> 137\u001B[1;33m         \u001B[0mr\u001B[0m\u001B[1;33m.\u001B[0m\u001B[0mraise_for_status\u001B[0m\u001B[1;33m(\u001B[0m\u001B[1;33m)\u001B[0m\u001B[1;33m\u001B[0m\u001B[1;33m\u001B[0m\u001B[0m\n\u001B[0m\u001B[0;32m    138\u001B[0m \u001B[1;33m\u001B[0m\u001B[0m\n\u001B[0;32m    139\u001B[0m         \u001B[0mfull_response\u001B[0m \u001B[1;33m=\u001B[0m \u001B[0mself\u001B[0m\u001B[1;33m.\u001B[0m\u001B[0m_resolve_response_pagination\u001B[0m\u001B[1;33m(\u001B[0m\u001B[0mr\u001B[0m\u001B[1;33m)\u001B[0m\u001B[1;33m\u001B[0m\u001B[1;33m\u001B[0m\u001B[0m\n",
      "\u001B[1;32mc:\\users\\micha\\tbi\\fhir\\fhir_kindling\\venv\\lib\\site-packages\\requests\\sessions.py\u001B[0m in \u001B[0;36mget\u001B[1;34m(self, url, **kwargs)\u001B[0m\n\u001B[0;32m    553\u001B[0m \u001B[1;33m\u001B[0m\u001B[0m\n\u001B[0;32m    554\u001B[0m         \u001B[0mkwargs\u001B[0m\u001B[1;33m.\u001B[0m\u001B[0msetdefault\u001B[0m\u001B[1;33m(\u001B[0m\u001B[1;34m'allow_redirects'\u001B[0m\u001B[1;33m,\u001B[0m \u001B[1;32mTrue\u001B[0m\u001B[1;33m)\u001B[0m\u001B[1;33m\u001B[0m\u001B[1;33m\u001B[0m\u001B[0m\n\u001B[1;32m--> 555\u001B[1;33m         \u001B[1;32mreturn\u001B[0m \u001B[0mself\u001B[0m\u001B[1;33m.\u001B[0m\u001B[0mrequest\u001B[0m\u001B[1;33m(\u001B[0m\u001B[1;34m'GET'\u001B[0m\u001B[1;33m,\u001B[0m \u001B[0murl\u001B[0m\u001B[1;33m,\u001B[0m \u001B[1;33m**\u001B[0m\u001B[0mkwargs\u001B[0m\u001B[1;33m)\u001B[0m\u001B[1;33m\u001B[0m\u001B[1;33m\u001B[0m\u001B[0m\n\u001B[0m\u001B[0;32m    556\u001B[0m \u001B[1;33m\u001B[0m\u001B[0m\n\u001B[0;32m    557\u001B[0m     \u001B[1;32mdef\u001B[0m \u001B[0moptions\u001B[0m\u001B[1;33m(\u001B[0m\u001B[0mself\u001B[0m\u001B[1;33m,\u001B[0m \u001B[0murl\u001B[0m\u001B[1;33m,\u001B[0m \u001B[1;33m**\u001B[0m\u001B[0mkwargs\u001B[0m\u001B[1;33m)\u001B[0m\u001B[1;33m:\u001B[0m\u001B[1;33m\u001B[0m\u001B[1;33m\u001B[0m\u001B[0m\n",
      "\u001B[1;32mc:\\users\\micha\\tbi\\fhir\\fhir_kindling\\venv\\lib\\site-packages\\requests\\sessions.py\u001B[0m in \u001B[0;36mrequest\u001B[1;34m(self, method, url, params, data, headers, cookies, files, auth, timeout, allow_redirects, proxies, hooks, stream, verify, cert, json)\u001B[0m\n\u001B[0;32m    526\u001B[0m             \u001B[0mhooks\u001B[0m\u001B[1;33m=\u001B[0m\u001B[0mhooks\u001B[0m\u001B[1;33m,\u001B[0m\u001B[1;33m\u001B[0m\u001B[1;33m\u001B[0m\u001B[0m\n\u001B[0;32m    527\u001B[0m         )\n\u001B[1;32m--> 528\u001B[1;33m         \u001B[0mprep\u001B[0m \u001B[1;33m=\u001B[0m \u001B[0mself\u001B[0m\u001B[1;33m.\u001B[0m\u001B[0mprepare_request\u001B[0m\u001B[1;33m(\u001B[0m\u001B[0mreq\u001B[0m\u001B[1;33m)\u001B[0m\u001B[1;33m\u001B[0m\u001B[1;33m\u001B[0m\u001B[0m\n\u001B[0m\u001B[0;32m    529\u001B[0m \u001B[1;33m\u001B[0m\u001B[0m\n\u001B[0;32m    530\u001B[0m         \u001B[0mproxies\u001B[0m \u001B[1;33m=\u001B[0m \u001B[0mproxies\u001B[0m \u001B[1;32mor\u001B[0m \u001B[1;33m{\u001B[0m\u001B[1;33m}\u001B[0m\u001B[1;33m\u001B[0m\u001B[1;33m\u001B[0m\u001B[0m\n",
      "\u001B[1;32mc:\\users\\micha\\tbi\\fhir\\fhir_kindling\\venv\\lib\\site-packages\\requests\\sessions.py\u001B[0m in \u001B[0;36mprepare_request\u001B[1;34m(self, request)\u001B[0m\n\u001B[0;32m    454\u001B[0m \u001B[1;33m\u001B[0m\u001B[0m\n\u001B[0;32m    455\u001B[0m         \u001B[0mp\u001B[0m \u001B[1;33m=\u001B[0m \u001B[0mPreparedRequest\u001B[0m\u001B[1;33m(\u001B[0m\u001B[1;33m)\u001B[0m\u001B[1;33m\u001B[0m\u001B[1;33m\u001B[0m\u001B[0m\n\u001B[1;32m--> 456\u001B[1;33m         p.prepare(\n\u001B[0m\u001B[0;32m    457\u001B[0m             \u001B[0mmethod\u001B[0m\u001B[1;33m=\u001B[0m\u001B[0mrequest\u001B[0m\u001B[1;33m.\u001B[0m\u001B[0mmethod\u001B[0m\u001B[1;33m.\u001B[0m\u001B[0mupper\u001B[0m\u001B[1;33m(\u001B[0m\u001B[1;33m)\u001B[0m\u001B[1;33m,\u001B[0m\u001B[1;33m\u001B[0m\u001B[1;33m\u001B[0m\u001B[0m\n\u001B[0;32m    458\u001B[0m             \u001B[0murl\u001B[0m\u001B[1;33m=\u001B[0m\u001B[0mrequest\u001B[0m\u001B[1;33m.\u001B[0m\u001B[0murl\u001B[0m\u001B[1;33m,\u001B[0m\u001B[1;33m\u001B[0m\u001B[1;33m\u001B[0m\u001B[0m\n",
      "\u001B[1;32mc:\\users\\micha\\tbi\\fhir\\fhir_kindling\\venv\\lib\\site-packages\\requests\\models.py\u001B[0m in \u001B[0;36mprepare\u001B[1;34m(self, method, url, headers, files, data, params, auth, cookies, hooks, json)\u001B[0m\n\u001B[0;32m    314\u001B[0m \u001B[1;33m\u001B[0m\u001B[0m\n\u001B[0;32m    315\u001B[0m         \u001B[0mself\u001B[0m\u001B[1;33m.\u001B[0m\u001B[0mprepare_method\u001B[0m\u001B[1;33m(\u001B[0m\u001B[0mmethod\u001B[0m\u001B[1;33m)\u001B[0m\u001B[1;33m\u001B[0m\u001B[1;33m\u001B[0m\u001B[0m\n\u001B[1;32m--> 316\u001B[1;33m         \u001B[0mself\u001B[0m\u001B[1;33m.\u001B[0m\u001B[0mprepare_url\u001B[0m\u001B[1;33m(\u001B[0m\u001B[0murl\u001B[0m\u001B[1;33m,\u001B[0m \u001B[0mparams\u001B[0m\u001B[1;33m)\u001B[0m\u001B[1;33m\u001B[0m\u001B[1;33m\u001B[0m\u001B[0m\n\u001B[0m\u001B[0;32m    317\u001B[0m         \u001B[0mself\u001B[0m\u001B[1;33m.\u001B[0m\u001B[0mprepare_headers\u001B[0m\u001B[1;33m(\u001B[0m\u001B[0mheaders\u001B[0m\u001B[1;33m)\u001B[0m\u001B[1;33m\u001B[0m\u001B[1;33m\u001B[0m\u001B[0m\n\u001B[0;32m    318\u001B[0m         \u001B[0mself\u001B[0m\u001B[1;33m.\u001B[0m\u001B[0mprepare_cookies\u001B[0m\u001B[1;33m(\u001B[0m\u001B[0mcookies\u001B[0m\u001B[1;33m)\u001B[0m\u001B[1;33m\u001B[0m\u001B[1;33m\u001B[0m\u001B[0m\n",
      "\u001B[1;32mc:\\users\\micha\\tbi\\fhir\\fhir_kindling\\venv\\lib\\site-packages\\requests\\models.py\u001B[0m in \u001B[0;36mprepare_url\u001B[1;34m(self, url, params)\u001B[0m\n\u001B[0;32m    388\u001B[0m             \u001B[0merror\u001B[0m \u001B[1;33m=\u001B[0m \u001B[0merror\u001B[0m\u001B[1;33m.\u001B[0m\u001B[0mformat\u001B[0m\u001B[1;33m(\u001B[0m\u001B[0mto_native_string\u001B[0m\u001B[1;33m(\u001B[0m\u001B[0murl\u001B[0m\u001B[1;33m,\u001B[0m \u001B[1;34m'utf8'\u001B[0m\u001B[1;33m)\u001B[0m\u001B[1;33m)\u001B[0m\u001B[1;33m\u001B[0m\u001B[1;33m\u001B[0m\u001B[0m\n\u001B[0;32m    389\u001B[0m \u001B[1;33m\u001B[0m\u001B[0m\n\u001B[1;32m--> 390\u001B[1;33m             \u001B[1;32mraise\u001B[0m \u001B[0mMissingSchema\u001B[0m\u001B[1;33m(\u001B[0m\u001B[0merror\u001B[0m\u001B[1;33m)\u001B[0m\u001B[1;33m\u001B[0m\u001B[1;33m\u001B[0m\u001B[0m\n\u001B[0m\u001B[0;32m    391\u001B[0m \u001B[1;33m\u001B[0m\u001B[0m\n\u001B[0;32m    392\u001B[0m         \u001B[1;32mif\u001B[0m \u001B[1;32mnot\u001B[0m \u001B[0mhost\u001B[0m\u001B[1;33m:\u001B[0m\u001B[1;33m\u001B[0m\u001B[1;33m\u001B[0m\u001B[0m\n",
      "\u001B[1;31mMissingSchema\u001B[0m: Invalid URL '/Patient/C7E67W3XOHARSS7L': No schema supplied. Perhaps you meant http:///Patient/C7E67W3XOHARSS7L?"
     ]
    }
   ],
   "source": [
    "load_dotenv(find_dotenv())\n",
    "server_1_address = \"http://193.196.20.24:9001/fhir\"\n",
    "client_id = os.getenv(\"CLIENT_ID\")\n",
    "client_secret = os.getenv(\"CLIENT_SECRET\")\n",
    "provider_url = os.getenv(\"OIDC_PROVIDER_URL\")\n",
    "server_1 = FhirServer(api_address=server_1_address, client_id=client_id, client_secret=client_secret,\n",
    "                      oidc_provider_url=provider_url)\n",
    "\n",
    "query = server_1.raw_query(\"/Patient/C7E67W3XOHARSS7L\")\n",
    "query.all()"
   ],
   "metadata": {
    "collapsed": false,
    "pycharm": {
     "name": "#%%\n"
    }
   }
  },
  {
   "cell_type": "code",
   "execution_count": null,
   "outputs": [],
   "source": [],
   "metadata": {
    "collapsed": false,
    "pycharm": {
     "name": "#%%\n"
    }
   }
  }
 ],
 "metadata": {
  "kernelspec": {
   "display_name": "Python 3",
   "language": "python",
   "name": "python3"
  },
  "language_info": {
   "codemirror_mode": {
    "name": "ipython",
    "version": 2
   },
   "file_extension": ".py",
   "mimetype": "text/x-python",
   "name": "python",
   "nbconvert_exporter": "python",
   "pygments_lexer": "ipython2",
   "version": "2.7.6"
  }
 },
 "nbformat": 4,
 "nbformat_minor": 0
}